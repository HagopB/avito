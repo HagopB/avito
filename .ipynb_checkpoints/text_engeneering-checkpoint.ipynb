{
 "cells": [
  {
   "cell_type": "code",
   "execution_count": 1,
   "metadata": {
    "collapsed": true
   },
   "outputs": [],
   "source": [
    "data_path = \"D:/Huge datasets/avito/data\""
   ]
  },
  {
   "cell_type": "code",
   "execution_count": 2,
   "metadata": {
    "collapsed": true
   },
   "outputs": [],
   "source": [
    "import pandas as pd\n",
    "import os"
   ]
  },
  {
   "cell_type": "code",
   "execution_count": 3,
   "metadata": {
    "collapsed": true
   },
   "outputs": [],
   "source": [
    "train = os.path.join(data_path, \"train.csv.zip\")"
   ]
  },
  {
   "cell_type": "code",
   "execution_count": 4,
   "metadata": {
    "collapsed": false
   },
   "outputs": [
    {
     "data": {
      "text/html": [
       "<div>\n",
       "<style scoped>\n",
       "    .dataframe tbody tr th:only-of-type {\n",
       "        vertical-align: middle;\n",
       "    }\n",
       "\n",
       "    .dataframe tbody tr th {\n",
       "        vertical-align: top;\n",
       "    }\n",
       "\n",
       "    .dataframe thead th {\n",
       "        text-align: right;\n",
       "    }\n",
       "</style>\n",
       "<table border=\"1\" class=\"dataframe\">\n",
       "  <thead>\n",
       "    <tr style=\"text-align: right;\">\n",
       "      <th></th>\n",
       "      <th>item_id</th>\n",
       "      <th>user_id</th>\n",
       "      <th>region</th>\n",
       "      <th>city</th>\n",
       "      <th>parent_category_name</th>\n",
       "      <th>category_name</th>\n",
       "      <th>param_1</th>\n",
       "      <th>param_2</th>\n",
       "      <th>param_3</th>\n",
       "      <th>title</th>\n",
       "      <th>description</th>\n",
       "      <th>price</th>\n",
       "      <th>item_seq_number</th>\n",
       "      <th>activation_date</th>\n",
       "      <th>user_type</th>\n",
       "      <th>image</th>\n",
       "      <th>image_top_1</th>\n",
       "      <th>deal_probability</th>\n",
       "    </tr>\n",
       "  </thead>\n",
       "  <tbody>\n",
       "    <tr>\n",
       "      <th>0</th>\n",
       "      <td>b912c3c6a6ad</td>\n",
       "      <td>e00f8ff2eaf9</td>\n",
       "      <td>Свердловская область</td>\n",
       "      <td>Екатеринбург</td>\n",
       "      <td>Личные вещи</td>\n",
       "      <td>Товары для детей и игрушки</td>\n",
       "      <td>Постельные принадлежности</td>\n",
       "      <td>NaN</td>\n",
       "      <td>NaN</td>\n",
       "      <td>Кокоби(кокон для сна)</td>\n",
       "      <td>Кокон для сна малыша,пользовались меньше месяц...</td>\n",
       "      <td>400.0</td>\n",
       "      <td>2</td>\n",
       "      <td>2017-03-28</td>\n",
       "      <td>Private</td>\n",
       "      <td>d10c7e016e03247a3bf2d13348fe959fe6f436c1caf64c...</td>\n",
       "      <td>1008.0</td>\n",
       "      <td>0.12789</td>\n",
       "    </tr>\n",
       "    <tr>\n",
       "      <th>1</th>\n",
       "      <td>2dac0150717d</td>\n",
       "      <td>39aeb48f0017</td>\n",
       "      <td>Самарская область</td>\n",
       "      <td>Самара</td>\n",
       "      <td>Для дома и дачи</td>\n",
       "      <td>Мебель и интерьер</td>\n",
       "      <td>Другое</td>\n",
       "      <td>NaN</td>\n",
       "      <td>NaN</td>\n",
       "      <td>Стойка для Одежды</td>\n",
       "      <td>Стойка для одежды, под вешалки. С бутика.</td>\n",
       "      <td>3000.0</td>\n",
       "      <td>19</td>\n",
       "      <td>2017-03-26</td>\n",
       "      <td>Private</td>\n",
       "      <td>79c9392cc51a9c81c6eb91eceb8e552171db39d7142700...</td>\n",
       "      <td>692.0</td>\n",
       "      <td>0.00000</td>\n",
       "    </tr>\n",
       "    <tr>\n",
       "      <th>2</th>\n",
       "      <td>ba83aefab5dc</td>\n",
       "      <td>91e2f88dd6e3</td>\n",
       "      <td>Ростовская область</td>\n",
       "      <td>Ростов-на-Дону</td>\n",
       "      <td>Бытовая электроника</td>\n",
       "      <td>Аудио и видео</td>\n",
       "      <td>Видео, DVD и Blu-ray плееры</td>\n",
       "      <td>NaN</td>\n",
       "      <td>NaN</td>\n",
       "      <td>Philips bluray</td>\n",
       "      <td>В хорошем состоянии, домашний кинотеатр с blu ...</td>\n",
       "      <td>4000.0</td>\n",
       "      <td>9</td>\n",
       "      <td>2017-03-20</td>\n",
       "      <td>Private</td>\n",
       "      <td>b7f250ee3f39e1fedd77c141f273703f4a9be59db4b48a...</td>\n",
       "      <td>3032.0</td>\n",
       "      <td>0.43177</td>\n",
       "    </tr>\n",
       "    <tr>\n",
       "      <th>3</th>\n",
       "      <td>02996f1dd2ea</td>\n",
       "      <td>bf5cccea572d</td>\n",
       "      <td>Татарстан</td>\n",
       "      <td>Набережные Челны</td>\n",
       "      <td>Личные вещи</td>\n",
       "      <td>Товары для детей и игрушки</td>\n",
       "      <td>Автомобильные кресла</td>\n",
       "      <td>NaN</td>\n",
       "      <td>NaN</td>\n",
       "      <td>Автокресло</td>\n",
       "      <td>Продам кресло от0-25кг</td>\n",
       "      <td>2200.0</td>\n",
       "      <td>286</td>\n",
       "      <td>2017-03-25</td>\n",
       "      <td>Company</td>\n",
       "      <td>e6ef97e0725637ea84e3d203e82dadb43ed3cc0a1c8413...</td>\n",
       "      <td>796.0</td>\n",
       "      <td>0.80323</td>\n",
       "    </tr>\n",
       "    <tr>\n",
       "      <th>4</th>\n",
       "      <td>7c90be56d2ab</td>\n",
       "      <td>ef50846afc0b</td>\n",
       "      <td>Волгоградская область</td>\n",
       "      <td>Волгоград</td>\n",
       "      <td>Транспорт</td>\n",
       "      <td>Автомобили</td>\n",
       "      <td>С пробегом</td>\n",
       "      <td>ВАЗ (LADA)</td>\n",
       "      <td>2110</td>\n",
       "      <td>ВАЗ 2110, 2003</td>\n",
       "      <td>Все вопросы по телефону.</td>\n",
       "      <td>40000.0</td>\n",
       "      <td>3</td>\n",
       "      <td>2017-03-16</td>\n",
       "      <td>Private</td>\n",
       "      <td>54a687a3a0fc1d68aed99bdaaf551c5c70b761b16fd0a2...</td>\n",
       "      <td>2264.0</td>\n",
       "      <td>0.20797</td>\n",
       "    </tr>\n",
       "  </tbody>\n",
       "</table>\n",
       "</div>"
      ],
      "text/plain": [
       "        item_id       user_id                 region              city  \\\n",
       "0  b912c3c6a6ad  e00f8ff2eaf9   Свердловская область      Екатеринбург   \n",
       "1  2dac0150717d  39aeb48f0017      Самарская область            Самара   \n",
       "2  ba83aefab5dc  91e2f88dd6e3     Ростовская область    Ростов-на-Дону   \n",
       "3  02996f1dd2ea  bf5cccea572d              Татарстан  Набережные Челны   \n",
       "4  7c90be56d2ab  ef50846afc0b  Волгоградская область         Волгоград   \n",
       "\n",
       "  parent_category_name               category_name  \\\n",
       "0          Личные вещи  Товары для детей и игрушки   \n",
       "1      Для дома и дачи           Мебель и интерьер   \n",
       "2  Бытовая электроника               Аудио и видео   \n",
       "3          Личные вещи  Товары для детей и игрушки   \n",
       "4            Транспорт                  Автомобили   \n",
       "\n",
       "                       param_1     param_2 param_3                  title  \\\n",
       "0    Постельные принадлежности         NaN     NaN  Кокоби(кокон для сна)   \n",
       "1                       Другое         NaN     NaN      Стойка для Одежды   \n",
       "2  Видео, DVD и Blu-ray плееры         NaN     NaN         Philips bluray   \n",
       "3         Автомобильные кресла         NaN     NaN             Автокресло   \n",
       "4                   С пробегом  ВАЗ (LADA)    2110         ВАЗ 2110, 2003   \n",
       "\n",
       "                                         description    price  \\\n",
       "0  Кокон для сна малыша,пользовались меньше месяц...    400.0   \n",
       "1          Стойка для одежды, под вешалки. С бутика.   3000.0   \n",
       "2  В хорошем состоянии, домашний кинотеатр с blu ...   4000.0   \n",
       "3                             Продам кресло от0-25кг   2200.0   \n",
       "4                           Все вопросы по телефону.  40000.0   \n",
       "\n",
       "   item_seq_number activation_date user_type  \\\n",
       "0                2      2017-03-28   Private   \n",
       "1               19      2017-03-26   Private   \n",
       "2                9      2017-03-20   Private   \n",
       "3              286      2017-03-25   Company   \n",
       "4                3      2017-03-16   Private   \n",
       "\n",
       "                                               image  image_top_1  \\\n",
       "0  d10c7e016e03247a3bf2d13348fe959fe6f436c1caf64c...       1008.0   \n",
       "1  79c9392cc51a9c81c6eb91eceb8e552171db39d7142700...        692.0   \n",
       "2  b7f250ee3f39e1fedd77c141f273703f4a9be59db4b48a...       3032.0   \n",
       "3  e6ef97e0725637ea84e3d203e82dadb43ed3cc0a1c8413...        796.0   \n",
       "4  54a687a3a0fc1d68aed99bdaaf551c5c70b761b16fd0a2...       2264.0   \n",
       "\n",
       "   deal_probability  \n",
       "0           0.12789  \n",
       "1           0.00000  \n",
       "2           0.43177  \n",
       "3           0.80323  \n",
       "4           0.20797  "
      ]
     },
     "execution_count": 4,
     "metadata": {},
     "output_type": "execute_result"
    }
   ],
   "source": [
    "train = pd.read_csv(train,compression=\"zip\", nrows= 10000)\n",
    "train.head()"
   ]
  },
  {
   "cell_type": "code",
   "execution_count": 5,
   "metadata": {
    "collapsed": false
   },
   "outputs": [
    {
     "name": "stdout",
     "output_type": "stream",
     "text": [
      "<class 'pandas.core.frame.DataFrame'>\n",
      "RangeIndex: 10000 entries, 0 to 9999\n",
      "Data columns (total 18 columns):\n",
      "item_id                 10000 non-null object\n",
      "user_id                 10000 non-null object\n",
      "region                  10000 non-null object\n",
      "city                    10000 non-null object\n",
      "parent_category_name    10000 non-null object\n",
      "category_name           10000 non-null object\n",
      "param_1                 9606 non-null object\n",
      "param_2                 5610 non-null object\n",
      "param_3                 4232 non-null object\n",
      "title                   10000 non-null object\n",
      "description             9202 non-null object\n",
      "price                   9452 non-null float64\n",
      "item_seq_number         10000 non-null int64\n",
      "activation_date         10000 non-null object\n",
      "user_type               10000 non-null object\n",
      "image                   9294 non-null object\n",
      "image_top_1             9294 non-null float64\n",
      "deal_probability        10000 non-null float64\n",
      "dtypes: float64(3), int64(1), object(14)\n",
      "memory usage: 1.4+ MB\n"
     ]
    }
   ],
   "source": [
    "train.info()"
   ]
  },
  {
   "cell_type": "code",
   "execution_count": 12,
   "metadata": {
    "collapsed": false,
    "scrolled": false
   },
   "outputs": [
    {
     "data": {
      "text/plain": [
       "21.5264"
      ]
     },
     "execution_count": 12,
     "metadata": {},
     "output_type": "execute_result"
    }
   ],
   "source": [
    "train.title.map(len).mean()"
   ]
  },
  {
   "cell_type": "code",
   "execution_count": 50,
   "metadata": {
    "collapsed": false
   },
   "outputs": [
    {
     "data": {
      "text/plain": [
       "90.0"
      ]
     },
     "execution_count": 50,
     "metadata": {},
     "output_type": "execute_result"
    }
   ],
   "source": [
    "train.description.map(lambda x: len(str(x))).median() # 182 / 90 characters en median"
   ]
  },
  {
   "cell_type": "code",
   "execution_count": 51,
   "metadata": {
    "collapsed": false
   },
   "outputs": [
    {
     "data": {
      "text/plain": [
       "13.0"
      ]
     },
     "execution_count": 51,
     "metadata": {},
     "output_type": "execute_result"
    }
   ],
   "source": [
    "train.description.map(lambda x: len(str(x).split())).median() # 25 mots en moyenne/ 13 en mediane"
   ]
  },
  {
   "cell_type": "code",
   "execution_count": 25,
   "metadata": {
    "collapsed": true
   },
   "outputs": [],
   "source": [
    "from nltk.tokenize.toktok import ToktokTokenizer # tokenizer tested on russian\n",
    "from nltk import sent_tokenize # should be multilingual"
   ]
  },
  {
   "cell_type": "code",
   "execution_count": 27,
   "metadata": {
    "collapsed": false
   },
   "outputs": [],
   "source": [
    "toktok = ToktokTokenizer()"
   ]
  },
  {
   "cell_type": "code",
   "execution_count": 18,
   "metadata": {
    "collapsed": false
   },
   "outputs": [
    {
     "ename": "NameError",
     "evalue": "name 'sent_tokenize' is not defined",
     "output_type": "error",
     "traceback": [
      "\u001b[0;31m---------------------------------------------------------------------------\u001b[0m",
      "\u001b[0;31mNameError\u001b[0m                                 Traceback (most recent call last)",
      "\u001b[0;32m<ipython-input-18-5b156639a42f>\u001b[0m in \u001b[0;36m<module>\u001b[0;34m()\u001b[0m\n\u001b[1;32m      1\u001b[0m \u001b[0mpd\u001b[0m\u001b[1;33m.\u001b[0m\u001b[0mset_option\u001b[0m\u001b[1;33m(\u001b[0m\u001b[1;34m'display.max_colwidth'\u001b[0m\u001b[1;33m,\u001b[0m \u001b[1;36m100\u001b[0m\u001b[1;33m)\u001b[0m\u001b[1;33m\u001b[0m\u001b[0m\n\u001b[0;32m----> 2\u001b[0;31m \u001b[0mtrain\u001b[0m\u001b[1;33m[\u001b[0m\u001b[1;34m\"desc_sentences\"\u001b[0m\u001b[1;33m]\u001b[0m \u001b[1;33m=\u001b[0m \u001b[0mtrain\u001b[0m\u001b[1;33m.\u001b[0m\u001b[0mdescription\u001b[0m\u001b[1;33m.\u001b[0m\u001b[0mmap\u001b[0m\u001b[1;33m(\u001b[0m\u001b[1;32mlambda\u001b[0m \u001b[0mx\u001b[0m\u001b[1;33m:\u001b[0m \u001b[0msent_tokenize\u001b[0m\u001b[1;33m(\u001b[0m\u001b[0mstr\u001b[0m\u001b[1;33m(\u001b[0m\u001b[0mx\u001b[0m\u001b[1;33m)\u001b[0m\u001b[1;33m)\u001b[0m\u001b[1;33m)\u001b[0m\u001b[1;33m\u001b[0m\u001b[0m\n\u001b[0m",
      "\u001b[0;32mC:\\Users\\arman\\Anaconda3\\envs\\tensorflow\\lib\\site-packages\\pandas\\core\\series.py\u001b[0m in \u001b[0;36mmap\u001b[0;34m(self, arg, na_action)\u001b[0m\n\u001b[1;32m   2352\u001b[0m         \u001b[1;32melse\u001b[0m\u001b[1;33m:\u001b[0m\u001b[1;33m\u001b[0m\u001b[0m\n\u001b[1;32m   2353\u001b[0m             \u001b[1;31m# arg is a function\u001b[0m\u001b[1;33m\u001b[0m\u001b[1;33m\u001b[0m\u001b[0m\n\u001b[0;32m-> 2354\u001b[0;31m             \u001b[0mnew_values\u001b[0m \u001b[1;33m=\u001b[0m \u001b[0mmap_f\u001b[0m\u001b[1;33m(\u001b[0m\u001b[0mvalues\u001b[0m\u001b[1;33m,\u001b[0m \u001b[0marg\u001b[0m\u001b[1;33m)\u001b[0m\u001b[1;33m\u001b[0m\u001b[0m\n\u001b[0m\u001b[1;32m   2355\u001b[0m \u001b[1;33m\u001b[0m\u001b[0m\n\u001b[1;32m   2356\u001b[0m         return self._constructor(new_values,\n",
      "\u001b[0;32mpandas/_libs/src/inference.pyx\u001b[0m in \u001b[0;36mpandas._libs.lib.map_infer\u001b[0;34m()\u001b[0m\n",
      "\u001b[0;32m<ipython-input-18-5b156639a42f>\u001b[0m in \u001b[0;36m<lambda>\u001b[0;34m(x)\u001b[0m\n\u001b[1;32m      1\u001b[0m \u001b[0mpd\u001b[0m\u001b[1;33m.\u001b[0m\u001b[0mset_option\u001b[0m\u001b[1;33m(\u001b[0m\u001b[1;34m'display.max_colwidth'\u001b[0m\u001b[1;33m,\u001b[0m \u001b[1;36m100\u001b[0m\u001b[1;33m)\u001b[0m\u001b[1;33m\u001b[0m\u001b[0m\n\u001b[0;32m----> 2\u001b[0;31m \u001b[0mtrain\u001b[0m\u001b[1;33m[\u001b[0m\u001b[1;34m\"desc_sentences\"\u001b[0m\u001b[1;33m]\u001b[0m \u001b[1;33m=\u001b[0m \u001b[0mtrain\u001b[0m\u001b[1;33m.\u001b[0m\u001b[0mdescription\u001b[0m\u001b[1;33m.\u001b[0m\u001b[0mmap\u001b[0m\u001b[1;33m(\u001b[0m\u001b[1;32mlambda\u001b[0m \u001b[0mx\u001b[0m\u001b[1;33m:\u001b[0m \u001b[0msent_tokenize\u001b[0m\u001b[1;33m(\u001b[0m\u001b[0mstr\u001b[0m\u001b[1;33m(\u001b[0m\u001b[0mx\u001b[0m\u001b[1;33m)\u001b[0m\u001b[1;33m)\u001b[0m\u001b[1;33m)\u001b[0m\u001b[1;33m\u001b[0m\u001b[0m\n\u001b[0m",
      "\u001b[0;31mNameError\u001b[0m: name 'sent_tokenize' is not defined"
     ]
    }
   ],
   "source": [
    "pd.set_option('display.max_colwidth', 100)\n",
    "train[\"desc_sentences\"] = train.description.map(lambda x: sent_tokenize(str(x)))"
   ]
  },
  {
   "cell_type": "code",
   "execution_count": 19,
   "metadata": {
    "collapsed": false
   },
   "outputs": [
    {
     "ename": "AttributeError",
     "evalue": "'DataFrame' object has no attribute 'desc_sentences'",
     "output_type": "error",
     "traceback": [
      "\u001b[0;31m---------------------------------------------------------------------------\u001b[0m",
      "\u001b[0;31mAttributeError\u001b[0m                            Traceback (most recent call last)",
      "\u001b[0;32m<ipython-input-19-29a35a6b3919>\u001b[0m in \u001b[0;36m<module>\u001b[0;34m()\u001b[0m\n\u001b[0;32m----> 1\u001b[0;31m \u001b[0mtrain\u001b[0m\u001b[1;33m[\u001b[0m\u001b[1;34m'desc_tokenized'\u001b[0m\u001b[1;33m]\u001b[0m \u001b[1;33m=\u001b[0m \u001b[0mtrain\u001b[0m\u001b[1;33m.\u001b[0m\u001b[0mdesc_sentences\u001b[0m\u001b[1;33m.\u001b[0m\u001b[0mmap\u001b[0m\u001b[1;33m(\u001b[0m\u001b[1;32mlambda\u001b[0m \u001b[0mx\u001b[0m\u001b[1;33m:\u001b[0m \u001b[0mtoktok\u001b[0m\u001b[1;33m.\u001b[0m\u001b[0mtokenize_sents\u001b[0m\u001b[1;33m(\u001b[0m\u001b[0mx\u001b[0m\u001b[1;33m)\u001b[0m\u001b[1;33m)\u001b[0m\u001b[1;33m\u001b[0m\u001b[0m\n\u001b[0m",
      "\u001b[0;32mC:\\Users\\arman\\Anaconda3\\envs\\tensorflow\\lib\\site-packages\\pandas\\core\\generic.py\u001b[0m in \u001b[0;36m__getattr__\u001b[0;34m(self, name)\u001b[0m\n\u001b[1;32m   3612\u001b[0m             \u001b[1;32mif\u001b[0m \u001b[0mname\u001b[0m \u001b[1;32min\u001b[0m \u001b[0mself\u001b[0m\u001b[1;33m.\u001b[0m\u001b[0m_info_axis\u001b[0m\u001b[1;33m:\u001b[0m\u001b[1;33m\u001b[0m\u001b[0m\n\u001b[1;32m   3613\u001b[0m                 \u001b[1;32mreturn\u001b[0m \u001b[0mself\u001b[0m\u001b[1;33m[\u001b[0m\u001b[0mname\u001b[0m\u001b[1;33m]\u001b[0m\u001b[1;33m\u001b[0m\u001b[0m\n\u001b[0;32m-> 3614\u001b[0;31m             \u001b[1;32mreturn\u001b[0m \u001b[0mobject\u001b[0m\u001b[1;33m.\u001b[0m\u001b[0m__getattribute__\u001b[0m\u001b[1;33m(\u001b[0m\u001b[0mself\u001b[0m\u001b[1;33m,\u001b[0m \u001b[0mname\u001b[0m\u001b[1;33m)\u001b[0m\u001b[1;33m\u001b[0m\u001b[0m\n\u001b[0m\u001b[1;32m   3615\u001b[0m \u001b[1;33m\u001b[0m\u001b[0m\n\u001b[1;32m   3616\u001b[0m     \u001b[1;32mdef\u001b[0m \u001b[0m__setattr__\u001b[0m\u001b[1;33m(\u001b[0m\u001b[0mself\u001b[0m\u001b[1;33m,\u001b[0m \u001b[0mname\u001b[0m\u001b[1;33m,\u001b[0m \u001b[0mvalue\u001b[0m\u001b[1;33m)\u001b[0m\u001b[1;33m:\u001b[0m\u001b[1;33m\u001b[0m\u001b[0m\n",
      "\u001b[0;31mAttributeError\u001b[0m: 'DataFrame' object has no attribute 'desc_sentences'"
     ]
    }
   ],
   "source": [
    "train['desc_tokenized'] = train.desc_sentences.map(lambda x: toktok.tokenize_sents(x))"
   ]
  },
  {
   "cell_type": "code",
   "execution_count": null,
   "metadata": {
    "collapsed": false
   },
   "outputs": [],
   "source": [
    "train.desc_tokenized"
   ]
  },
  {
   "cell_type": "code",
   "execution_count": null,
   "metadata": {
    "collapsed": true
   },
   "outputs": [],
   "source": [
    "from textblob import TextBlob"
   ]
  },
  {
   "cell_type": "code",
   "execution_count": null,
   "metadata": {
    "collapsed": false
   },
   "outputs": [],
   "source": [
    "blob = TextBlob(train.description[15])\n",
    "blob.translate(from_lang=\"ru\", to =  \"en\") # uses google api"
   ]
  },
  {
   "cell_type": "code",
   "execution_count": null,
   "metadata": {
    "collapsed": false
   },
   "outputs": [],
   "source": [
    "def safe_translate(text):\n",
    "    try:\n",
    "        blob = TextBlob(text)\n",
    "        tr = blob.translate(from_lang=\"ru\", to =  \"en\") # uses google api\n",
    "        return str(tr)\n",
    "    except:\n",
    "        return text"
   ]
  },
  {
   "cell_type": "code",
   "execution_count": null,
   "metadata": {
    "collapsed": false
   },
   "outputs": [],
   "source": [
    "train.category_name[:150].map(lambda x: safe_translate(x)).unique()"
   ]
  },
  {
   "cell_type": "code",
   "execution_count": null,
   "metadata": {
    "collapsed": true
   },
   "outputs": [],
   "source": []
  },
  {
   "cell_type": "code",
   "execution_count": null,
   "metadata": {
    "collapsed": false
   },
   "outputs": [],
   "source": [
    "train.city[:50].map(safe_translate).unique()"
   ]
  },
  {
   "cell_type": "code",
   "execution_count": null,
   "metadata": {
    "collapsed": false
   },
   "outputs": [],
   "source": [
    "[safetrain.parent_category_name.unique()]"
   ]
  },
  {
   "cell_type": "code",
   "execution_count": null,
   "metadata": {
    "collapsed": false
   },
   "outputs": [],
   "source": [
    "\n",
    "train.param_1[:50].map(lambda x: safe_translate(str(x))).unique()"
   ]
  },
  {
   "cell_type": "code",
   "execution_count": null,
   "metadata": {
    "collapsed": false
   },
   "outputs": [],
   "source": [
    "%matplotlib inline\n",
    "trunc = train.price < 100000\n",
    "train.price[trunc].plot(kind = \"hist\", bins = 50)"
   ]
  },
  {
   "cell_type": "code",
   "execution_count": null,
   "metadata": {
    "collapsed": false
   },
   "outputs": [],
   "source": [
    "train.deal_probability.plot(kind = \"hist\", bins = 100) "
   ]
  },
  {
   "cell_type": "code",
   "execution_count": null,
   "metadata": {
    "collapsed": false
   },
   "outputs": [],
   "source": [
    "train.groupby(['activation_date', \"user_type\"], as_index=False).count().pivot(index='activation_date',columns=\"user_type\")[\"item_id\"].plot(kind = \"area\")"
   ]
  },
  {
   "cell_type": "code",
   "execution_count": null,
   "metadata": {
    "collapsed": false
   },
   "outputs": [],
   "source": [
    "import matplotlib.pyplot as plt\n",
    "f, ((ax1, ax2), (ax3, ax4)) = plt.subplots(2,2, figsize = (12,8))\n",
    "train.groupby('activation_date')[\"deal_probability\"].mean().plot(kind = \"area\", ax = ax1) # seems smooth\n",
    "train.groupby('activation_date')[\"price\"].median().plot(kind = \"area\", ax = ax2) # seems smooth\n",
    "train.groupby('activation_date')[\"item_seq_number\"].mean().plot(kind = \"area\", ax = ax3) # seems not smooth? it's just an id...\n"
   ]
  },
  {
   "cell_type": "code",
   "execution_count": null,
   "metadata": {
    "collapsed": false
   },
   "outputs": [],
   "source": [
    "train.groupby(['activation_date', \"parent_cat_en\"], as_index=False).count()\\\n",
    "    .pivot(index='activation_date',columns=\"parent_cat_en\")[\"item_id\"]\\\n",
    "    .plot(kind = \"area\", figsize = (9,9));"
   ]
  },
  {
   "cell_type": "markdown",
   "metadata": {},
   "source": [
    "### We can drop dates, they seem irrelevant"
   ]
  },
  {
   "cell_type": "code",
   "execution_count": null,
   "metadata": {
    "collapsed": false
   },
   "outputs": [],
   "source": [
    "category_ru = train.parent_category_name[:50].unique()"
   ]
  },
  {
   "cell_type": "code",
   "execution_count": null,
   "metadata": {
    "collapsed": true
   },
   "outputs": [],
   "source": [
    "category_en = {c:safe_translate(c)  for c in category_ru}"
   ]
  },
  {
   "cell_type": "code",
   "execution_count": null,
   "metadata": {
    "collapsed": false
   },
   "outputs": [],
   "source": [
    "train[\"parent_cat_en\"] = train.parent_category_name.map(category_en)"
   ]
  },
  {
   "cell_type": "code",
   "execution_count": null,
   "metadata": {
    "collapsed": false
   },
   "outputs": [],
   "source": [
    "category_en"
   ]
  },
  {
   "cell_type": "code",
   "execution_count": null,
   "metadata": {
    "collapsed": true
   },
   "outputs": [],
   "source": [
    "{'Бытовая электроника': 'Consumer electronics',\n",
    " 'Для дома и дачи': 'For home and cottages',\n",
    " 'Животные': 'Animals',\n",
    " 'Личные вещи': 'Personal things',\n",
    " 'Недвижимость': 'The property',\n",
    " 'Транспорт': 'Transport',\n",
    " 'Хобби и отдых': 'Hobbies and Recreation'}"
   ]
  },
  {
   "cell_type": "code",
   "execution_count": null,
   "metadata": {
    "collapsed": true
   },
   "outputs": [],
   "source": [
    "category_ru = train.category_name[:50].unique()\n",
    "category_en = {c:safe_translate(c)  for c in category_ru}"
   ]
  },
  {
   "cell_type": "code",
   "execution_count": null,
   "metadata": {
    "collapsed": false
   },
   "outputs": [],
   "source": [
    "{'Автомобили': 'Cars',\n",
    " 'Аудио и видео': 'Audio and video',\n",
    " 'Детская одежда и обувь': \"Children's clothing and footwear\",\n",
    " 'Дома, дачи, коттеджи': 'Houses, cottages, cottages',\n",
    " 'Другие животные': 'Other animals',\n",
    " 'Квартиры': 'Apartments',\n",
    " 'Коллекционирование': 'Collecting',\n",
    " 'Коммерческая недвижимость': 'Commercial property',\n",
    " 'Комнаты': 'Rooms',\n",
    " 'Красота и здоровье': 'beauty and health',\n",
    " 'Мебель и интерьер': 'Furniture and interior',\n",
    " 'Одежда, обувь, аксессуары': 'Clothes, shoes, accessories',\n",
    " 'Посуда и товары для кухни': 'Dishes and products for the kitchen',\n",
    " 'Ремонт и строительство': 'Repair and construction',\n",
    " 'Собаки': 'Dogs',\n",
    " 'Товары для детей и игрушки': 'Goods for children and toys',\n",
    " 'Товары для животных': 'Goods for pets',\n",
    " 'Товары для компьютера': 'Computer products'}"
   ]
  },
  {
   "cell_type": "code",
   "execution_count": null,
   "metadata": {
    "collapsed": true
   },
   "outputs": [],
   "source": [
    "regions_ru = train.region.unique()\n",
    "regions_en = {c:safe_translate(c)  for c in regions_ru}"
   ]
  },
  {
   "cell_type": "code",
   "execution_count": null,
   "metadata": {
    "collapsed": false
   },
   "outputs": [],
   "source": [
    "{'Алтайский край': 'Altai region',\n",
    " 'Башкортостан': 'Bashkortostan',\n",
    " 'Белгородская область': 'Belgorod region',\n",
    " 'Владимирская область': 'Vladimir region',\n",
    " 'Волгоградская область': 'Volgograd region',\n",
    " 'Воронежская область': 'Voronezh region',\n",
    " 'Иркутская область': 'Irkutsk region',\n",
    " 'Калининградская область': 'Kaliningrad region',\n",
    " 'Кемеровская область': 'Kemerovo Region',\n",
    " 'Краснодарский край': 'Krasnodar region',\n",
    " 'Красноярский край': 'Krasnoyarsk region',\n",
    " 'Нижегородская область': 'Nizhny Novgorod Region',\n",
    " 'Новосибирская область': 'Novosibirsk region',\n",
    " 'Омская область': 'Omsk Region',\n",
    " 'Оренбургская область': 'Orenburg region',\n",
    " 'Пермский край': 'Perm Region',\n",
    " 'Ростовская область': 'Rostov region',\n",
    " 'Самарская область': 'Samara Region',\n",
    " 'Саратовская область': 'Saratov region',\n",
    " 'Свердловская область': 'Sverdlovsk region',\n",
    " 'Ставропольский край': 'Stavropol region',\n",
    " 'Татарстан': 'Tatarstan',\n",
    " 'Тульская область': 'Tula region',\n",
    " 'Тюменская область': 'Tyumen region',\n",
    " 'Удмуртия': 'Udmurtia',\n",
    " 'Ханты-Мансийский АО': 'Khanty-Mansiysk Autonomous Okrug',\n",
    " 'Челябинская область': 'Chelyabinsk region',\n",
    " 'Ярославская область': 'Yaroslavl region'}"
   ]
  },
  {
   "cell_type": "code",
   "execution_count": null,
   "metadata": {
    "collapsed": false
   },
   "outputs": [],
   "source": [
    "train[\"sub_cat_en\"] = train.category_name.map(category_en)\n",
    "train.groupby(['activation_date', \"sub_cat_en\"], as_index=False).count()\\\n",
    "    .pivot(index='activation_date',columns=\"sub_cat_en\")[\"item_id\"]\\\n",
    "    .plot(kind = \"area\", figsize = (9,9));"
   ]
  },
  {
   "cell_type": "code",
   "execution_count": null,
   "metadata": {
    "collapsed": true
   },
   "outputs": [],
   "source": [
    "from sklearn.feature_extraction.text import TfidfVectorizer\n",
    "from nltk.corpus import stopwords\n",
    "russian_stops = stopwords.open('russian').read().splitlines()"
   ]
  },
  {
   "cell_type": "code",
   "execution_count": null,
   "metadata": {
    "collapsed": false
   },
   "outputs": [],
   "source": [
    "russian_stops = stopwords.open('russian').read().splitlines()"
   ]
  },
  {
   "cell_type": "code",
   "execution_count": null,
   "metadata": {
    "collapsed": false
   },
   "outputs": [],
   "source": [
    "tf = TfidfVectorizer(stop_words=russian_stops)\n"
   ]
  },
  {
   "cell_type": "code",
   "execution_count": null,
   "metadata": {
    "collapsed": false
   },
   "outputs": [],
   "source": [
    "title_mat = tf.fit_transform(train.title)"
   ]
  },
  {
   "cell_type": "code",
   "execution_count": null,
   "metadata": {
    "collapsed": false
   },
   "outputs": [],
   "source": [
    "from sklearn.linear_model import LinearRegression\n",
    "from sklearn.model_selection import cross_val_score\n",
    "\n",
    "lr = LinearRegression()\n",
    "scores = cross_val_score(X= title_mat, y = train.deal_probability, estimator= lr, scoring=\"neg_mean_squared_error\")"
   ]
  },
  {
   "cell_type": "code",
   "execution_count": null,
   "metadata": {
    "collapsed": false
   },
   "outputs": [],
   "source": [
    "import numpy as np\n",
    "[np.sqrt(s*-1) for s in scores]"
   ]
  },
  {
   "cell_type": "code",
   "execution_count": null,
   "metadata": {
    "collapsed": true
   },
   "outputs": [],
   "source": [
    "from sklearn.metrics import regression"
   ]
  },
  {
   "cell_type": "code",
   "execution_count": null,
   "metadata": {
    "collapsed": false
   },
   "outputs": [],
   "source": [
    "train.param_1[:50].map(lambda x: safe_translate(x))"
   ]
  },
  {
   "cell_type": "code",
   "execution_count": 20,
   "metadata": {
    "collapsed": false
   },
   "outputs": [
    {
     "data": {
      "text/plain": [
       "3                                                                          Selling an armchair from 0-25kg\n",
       "5                                                                                      In a good condition\n",
       "7                                                                            Boyfriends in good condition.\n",
       "35     Modular baby carriage on low profile rubber. Which will not fail you by piercing or descending. ...\n",
       "48     I sell a buggy-cane used in good condition. The backrest is adjustable, takes up little space, i...\n",
       "56                                         I will sell a spring mattress used 1200-2000 in good condition.\n",
       "63                                            For the off-season. Do not get wet, do not blow. Rare color.\n",
       "65     Installation of interior doors 1200-1600rub, installation of an entrance door 1500-2500rub, enno...\n",
       "66     Master with 9 years of experience is waiting for you, beauties! Building, correction, shellac! U...\n",
       "67     Selling boots firm \"Carlo Pazolini\" beige, season fall / spring. /\\n/\\nBecause this company is l...\n",
       "83     I sell the washing machine in excellent working condition. It has all the necessary functions fo...\n",
       "88     Selling a baby coat for the off-season. Color gray-pink. The quality is excellent !!! We bought ...\n",
       "96                        Selling spring-autumn boots in excellent condition. We put on a couple of times.\n",
       "99                                         Selling shoes genuine leather, in excellent condition, 21 size.\n",
       "102                                         I sell the wall-mounted boiler. In operation was not. Bargain.\n",
       "173                                           Selling washing machine Samsung WW60H2220EW for spare parts,\n",
       "188    Stroller stroller SimpliCity model for the city and shopping centers. Compact, maneuverable and ...\n",
       "207    I offer services for the transportation of goods in any direction (in the Republic of Belarus, i...\n",
       "254    Daily free transport: ISLAND CRIMEA: Simferopol, Sevastopol, Yalta, Alushta, Feodosia, Kerch, Su...\n",
       "260                                              Selling a toilet in good condition. Ideal for the garden.\n",
       "265                              In good condition, a small defect on the left side. Mechanism of the book\n",
       "271                                                                                                    NaN\n",
       "332    Rise of houses, replacement of wreaths, foundation pouring. /\\nReplacement of the roof, the stru...\n",
       "352                                                  selling microfullnovku in excellent condition bargain\n",
       "361    The height of 2 meters.two compressor.in really good condition.is working as a clock.est possibi...\n",
       "401    I sell videos for maidens. b.u written on skates size 28-31, but we wore up to the size of the f...\n",
       "404                                                                   In excellent condition, the pendulum\n",
       "407                                                                                                    NaN\n",
       "414    I sell a bicycle in good condition. Steel frame, rubber impenetrable wheels on bearings, wide ro...\n",
       "425                                                 A wardrobe for things, a bookcase, a chest of drawers.\n",
       "426             We sell glass cans for canning. Used, in volume 0,5; 0.7; 1 L; 2 L; 3 A; /\\n5 rubles piece\n",
       "435                                             In connection with the move, I sell the full-length mirror\n",
       "441    YORK R101 Rowing machine, /\\n/\\nOptions:/\\n/\\nHydraulic system Resistance /\\n12 levels with manu...\n",
       "451    ✔ Welding, replacement of thresholds, bottoms. /\\n✔ Body painting /\\n✔ Local lacquer repair. /\\n...\n",
       "454                             BU toilet. /\\nquality German company.\\n it is better to write SMS 11 to 20\n",
       "495    Selling children's bicycle. Used in good condition. Minimal operation. There are additional hold...\n",
       "498                                                                          Boots for women, leatherette.\n",
       "501    In anticipation of spring cleaning in houses and apartments I propose to buy a steam cleaner fro...\n",
       "518                                               Clippers are not transposed, originals. Condition of new\n",
       "527                                                  Washing machine Samsung /\\n800 rpm /\\nLoading: 3.5 kg\n",
       "544                                                                                        Good condition.\n",
       "546    Brumer TF07, the condition is good! very comfortable, folds! bargain!/\\n/\\ncharacteristics /\\nA ...\n",
       "550         loading 5,5kg machine in excellent condition, the reason for the sale was presented automatic.\n",
       "553                                                                                                    NaN\n",
       "612                                                        Bicycle in good condition.\\nPossible bargaining\n",
       "644                                                       Natural skin, orthopedic minimen, good condition\n",
       "652    I sell diapers for adults Seni Air 3 (L). Packaging is started, about 25 pieces. Pickup from Sip...\n",
       "653    Profile pipe /\\n40 * 40 * 2 (354 meters) to 6 meters 80 rubles m / n /\\n100 * 100 * 3 (18 meters...\n",
       "666    Correction of eyebrows by the type of face. Staining with dye, biotatuage of eyebrows henna. I w...\n",
       "678    All toys are designed to develop fine motor skills, to recognize the color, shape, sounds of ani...\n",
       "Name: description, dtype: object"
      ]
     },
     "execution_count": 20,
     "metadata": {},
     "output_type": "execute_result"
    }
   ],
   "source": [
    "train.loc[ train.deal_probability > 0.8 ,\"description\"][:50].map(safe_translate)"
   ]
  },
  {
   "cell_type": "code",
   "execution_count": 25,
   "metadata": {
    "collapsed": false
   },
   "outputs": [],
   "source": [
    "s = train.loc[451,\"description\"]"
   ]
  },
  {
   "cell_type": "code",
   "execution_count": 29,
   "metadata": {
    "collapsed": false
   },
   "outputs": [
    {
     "data": {
      "text/plain": [
       "'✔Сварочные работы, замена порогов, днища.✔Покраска кузова ✔Локальный ремонт ЛКП.✔Удаление вмятин без покраски авто.✔Замена стекла.✔Полировка фар.✔Полировка авто.Сроки выполнения работ зависят от сложности выполняемых работ.Возможен ремонт в короткие сроки.Окончательные сроки оговариваются по факту осмотра автомобиля.Предварительная оценка стоимости ремонтных работ возможна по фото.Покраска крыла Покраска бампера Покраска крыши Покраска капота Покраска крышки багажника Покраска порога Ремонт порога Ремонт капота Кузовной ремонт дешего Покраска авто Ремонт авто Ремонт арок Локальный ремонт'"
      ]
     },
     "execution_count": 29,
     "metadata": {},
     "output_type": "execute_result"
    }
   ],
   "source": [
    "s.replace(\"/\\n;\", \"\")"
   ]
  },
  {
   "cell_type": "code",
   "execution_count": 45,
   "metadata": {
    "collapsed": false
   },
   "outputs": [
    {
     "data": {
      "text/plain": [
       "['✔',\n",
       " '/',\n",
       " '\\n',\n",
       " '✔',\n",
       " '/',\n",
       " '\\n',\n",
       " '✔',\n",
       " '/',\n",
       " '\\n',\n",
       " '✔',\n",
       " '/',\n",
       " '\\n',\n",
       " '✔',\n",
       " '/',\n",
       " '\\n',\n",
       " '✔',\n",
       " '/',\n",
       " '\\n',\n",
       " '✔',\n",
       " '/',\n",
       " '\\n',\n",
       " '/',\n",
       " '\\n',\n",
       " '/',\n",
       " '\\n',\n",
       " '/',\n",
       " '\\n',\n",
       " '/',\n",
       " '\\n',\n",
       " '/',\n",
       " '\\n',\n",
       " '/',\n",
       " '\\n']"
      ]
     },
     "execution_count": 45,
     "metadata": {},
     "output_type": "execute_result"
    }
   ],
   "source": [
    "import re\n",
    "spec = \"/\\n✔;\"\n",
    "regex = re.compile('[%s]' % re.escape(spec))\n",
    "regex.findall(s)"
   ]
  },
  {
   "cell_type": "code",
   "execution_count": null,
   "metadata": {
    "collapsed": true
   },
   "outputs": [],
   "source": []
  }
 ],
 "metadata": {
  "anaconda-cloud": {},
  "kernelspec": {
   "display_name": "Python [conda env:tensorflow]",
   "language": "python",
   "name": "conda-env-tensorflow-py"
  },
  "language_info": {
   "codemirror_mode": {
    "name": "ipython",
    "version": 3
   },
   "file_extension": ".py",
   "mimetype": "text/x-python",
   "name": "python",
   "nbconvert_exporter": "python",
   "pygments_lexer": "ipython3",
   "version": "3.5.2"
  }
 },
 "nbformat": 4,
 "nbformat_minor": 1
}
