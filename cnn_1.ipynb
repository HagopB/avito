{
 "cells": [
  {
   "cell_type": "code",
   "execution_count": 290,
   "metadata": {
    "collapsed": false
   },
   "outputs": [],
   "source": [
    "data_path = \"D:/Huge datasets/avito/data\"\n",
    "PAD_LEN_WORD = 35\n",
    "PAD_LEN_CHAR = 20\n",
    "N_VECTORS = 80000\n",
    "EMB_DIM = 300\n",
    "MAX_VOCAB = 4000\n",
    "MAX_CHAR = 125\n",
    "\n",
    "from keras.preprocessing import sequence"
   ]
  },
  {
   "cell_type": "code",
   "execution_count": 291,
   "metadata": {
    "collapsed": false
   },
   "outputs": [
    {
     "name": "stdout",
     "output_type": "stream",
     "text": [
      "The autoreload extension is already loaded. To reload it, use:\n",
      "  %reload_ext autoreload\n"
     ]
    }
   ],
   "source": [
    "%load_ext autoreload\n",
    "%autoreload 2"
   ]
  },
  {
   "cell_type": "code",
   "execution_count": 292,
   "metadata": {
    "collapsed": true
   },
   "outputs": [],
   "source": [
    "import pandas as pd\n",
    "import numpy as np\n",
    "import os"
   ]
  },
  {
   "cell_type": "code",
   "execution_count": 293,
   "metadata": {
    "collapsed": false
   },
   "outputs": [],
   "source": [
    "from text_prep import Preparator"
   ]
  },
  {
   "cell_type": "code",
   "execution_count": 294,
   "metadata": {
    "collapsed": false
   },
   "outputs": [],
   "source": [
    "pr = Preparator()"
   ]
  },
  {
   "cell_type": "code",
   "execution_count": 295,
   "metadata": {
    "collapsed": false
   },
   "outputs": [],
   "source": [
    "train = os.path.join(data_path, \"train.csv.zip\")\n",
    "word_vectors_path = os.path.join(data_path, \"wiki.ru.vec\") # bunch of russian w2v http://rusvectores.org/en/models/"
   ]
  },
  {
   "cell_type": "code",
   "execution_count": 297,
   "metadata": {
    "collapsed": false,
    "scrolled": true
   },
   "outputs": [
    {
     "data": {
      "text/html": [
       "<div>\n",
       "<style scoped>\n",
       "    .dataframe tbody tr th:only-of-type {\n",
       "        vertical-align: middle;\n",
       "    }\n",
       "\n",
       "    .dataframe tbody tr th {\n",
       "        vertical-align: top;\n",
       "    }\n",
       "\n",
       "    .dataframe thead th {\n",
       "        text-align: right;\n",
       "    }\n",
       "</style>\n",
       "<table border=\"1\" class=\"dataframe\">\n",
       "  <thead>\n",
       "    <tr style=\"text-align: right;\">\n",
       "      <th></th>\n",
       "      <th>item_id</th>\n",
       "      <th>user_id</th>\n",
       "      <th>region</th>\n",
       "      <th>city</th>\n",
       "      <th>parent_category_name</th>\n",
       "      <th>category_name</th>\n",
       "      <th>param_1</th>\n",
       "      <th>param_2</th>\n",
       "      <th>param_3</th>\n",
       "      <th>title</th>\n",
       "      <th>description</th>\n",
       "      <th>price</th>\n",
       "      <th>item_seq_number</th>\n",
       "      <th>activation_date</th>\n",
       "      <th>user_type</th>\n",
       "      <th>image</th>\n",
       "      <th>image_top_1</th>\n",
       "      <th>deal_probability</th>\n",
       "    </tr>\n",
       "  </thead>\n",
       "  <tbody>\n",
       "    <tr>\n",
       "      <th>0</th>\n",
       "      <td>b912c3c6a6ad</td>\n",
       "      <td>e00f8ff2eaf9</td>\n",
       "      <td>Свердловская область</td>\n",
       "      <td>Екатеринбург</td>\n",
       "      <td>Личные вещи</td>\n",
       "      <td>Товары для детей и игрушки</td>\n",
       "      <td>Постельные принадлежности</td>\n",
       "      <td>NaN</td>\n",
       "      <td>NaN</td>\n",
       "      <td>Кокоби(кокон для сна)</td>\n",
       "      <td>Кокон для сна малыша,пользовались меньше месяц...</td>\n",
       "      <td>400.0</td>\n",
       "      <td>2</td>\n",
       "      <td>2017-03-28</td>\n",
       "      <td>Private</td>\n",
       "      <td>d10c7e016e03247a3bf2d13348fe959fe6f436c1caf64c...</td>\n",
       "      <td>1008.0</td>\n",
       "      <td>0.12789</td>\n",
       "    </tr>\n",
       "    <tr>\n",
       "      <th>1</th>\n",
       "      <td>2dac0150717d</td>\n",
       "      <td>39aeb48f0017</td>\n",
       "      <td>Самарская область</td>\n",
       "      <td>Самара</td>\n",
       "      <td>Для дома и дачи</td>\n",
       "      <td>Мебель и интерьер</td>\n",
       "      <td>Другое</td>\n",
       "      <td>NaN</td>\n",
       "      <td>NaN</td>\n",
       "      <td>Стойка для Одежды</td>\n",
       "      <td>Стойка для одежды, под вешалки. С бутика.</td>\n",
       "      <td>3000.0</td>\n",
       "      <td>19</td>\n",
       "      <td>2017-03-26</td>\n",
       "      <td>Private</td>\n",
       "      <td>79c9392cc51a9c81c6eb91eceb8e552171db39d7142700...</td>\n",
       "      <td>692.0</td>\n",
       "      <td>0.00000</td>\n",
       "    </tr>\n",
       "    <tr>\n",
       "      <th>2</th>\n",
       "      <td>ba83aefab5dc</td>\n",
       "      <td>91e2f88dd6e3</td>\n",
       "      <td>Ростовская область</td>\n",
       "      <td>Ростов-на-Дону</td>\n",
       "      <td>Бытовая электроника</td>\n",
       "      <td>Аудио и видео</td>\n",
       "      <td>Видео, DVD и Blu-ray плееры</td>\n",
       "      <td>NaN</td>\n",
       "      <td>NaN</td>\n",
       "      <td>Philips bluray</td>\n",
       "      <td>В хорошем состоянии, домашний кинотеатр с blu ...</td>\n",
       "      <td>4000.0</td>\n",
       "      <td>9</td>\n",
       "      <td>2017-03-20</td>\n",
       "      <td>Private</td>\n",
       "      <td>b7f250ee3f39e1fedd77c141f273703f4a9be59db4b48a...</td>\n",
       "      <td>3032.0</td>\n",
       "      <td>0.43177</td>\n",
       "    </tr>\n",
       "    <tr>\n",
       "      <th>3</th>\n",
       "      <td>02996f1dd2ea</td>\n",
       "      <td>bf5cccea572d</td>\n",
       "      <td>Татарстан</td>\n",
       "      <td>Набережные Челны</td>\n",
       "      <td>Личные вещи</td>\n",
       "      <td>Товары для детей и игрушки</td>\n",
       "      <td>Автомобильные кресла</td>\n",
       "      <td>NaN</td>\n",
       "      <td>NaN</td>\n",
       "      <td>Автокресло</td>\n",
       "      <td>Продам кресло от0-25кг</td>\n",
       "      <td>2200.0</td>\n",
       "      <td>286</td>\n",
       "      <td>2017-03-25</td>\n",
       "      <td>Company</td>\n",
       "      <td>e6ef97e0725637ea84e3d203e82dadb43ed3cc0a1c8413...</td>\n",
       "      <td>796.0</td>\n",
       "      <td>0.80323</td>\n",
       "    </tr>\n",
       "    <tr>\n",
       "      <th>4</th>\n",
       "      <td>7c90be56d2ab</td>\n",
       "      <td>ef50846afc0b</td>\n",
       "      <td>Волгоградская область</td>\n",
       "      <td>Волгоград</td>\n",
       "      <td>Транспорт</td>\n",
       "      <td>Автомобили</td>\n",
       "      <td>С пробегом</td>\n",
       "      <td>ВАЗ (LADA)</td>\n",
       "      <td>2110</td>\n",
       "      <td>ВАЗ 2110, 2003</td>\n",
       "      <td>Все вопросы по телефону.</td>\n",
       "      <td>40000.0</td>\n",
       "      <td>3</td>\n",
       "      <td>2017-03-16</td>\n",
       "      <td>Private</td>\n",
       "      <td>54a687a3a0fc1d68aed99bdaaf551c5c70b761b16fd0a2...</td>\n",
       "      <td>2264.0</td>\n",
       "      <td>0.20797</td>\n",
       "    </tr>\n",
       "  </tbody>\n",
       "</table>\n",
       "</div>"
      ],
      "text/plain": [
       "        item_id       user_id                 region              city  \\\n",
       "0  b912c3c6a6ad  e00f8ff2eaf9   Свердловская область      Екатеринбург   \n",
       "1  2dac0150717d  39aeb48f0017      Самарская область            Самара   \n",
       "2  ba83aefab5dc  91e2f88dd6e3     Ростовская область    Ростов-на-Дону   \n",
       "3  02996f1dd2ea  bf5cccea572d              Татарстан  Набережные Челны   \n",
       "4  7c90be56d2ab  ef50846afc0b  Волгоградская область         Волгоград   \n",
       "\n",
       "  parent_category_name               category_name  \\\n",
       "0          Личные вещи  Товары для детей и игрушки   \n",
       "1      Для дома и дачи           Мебель и интерьер   \n",
       "2  Бытовая электроника               Аудио и видео   \n",
       "3          Личные вещи  Товары для детей и игрушки   \n",
       "4            Транспорт                  Автомобили   \n",
       "\n",
       "                       param_1     param_2 param_3                  title  \\\n",
       "0    Постельные принадлежности         NaN     NaN  Кокоби(кокон для сна)   \n",
       "1                       Другое         NaN     NaN      Стойка для Одежды   \n",
       "2  Видео, DVD и Blu-ray плееры         NaN     NaN         Philips bluray   \n",
       "3         Автомобильные кресла         NaN     NaN             Автокресло   \n",
       "4                   С пробегом  ВАЗ (LADA)    2110         ВАЗ 2110, 2003   \n",
       "\n",
       "                                         description    price  \\\n",
       "0  Кокон для сна малыша,пользовались меньше месяц...    400.0   \n",
       "1          Стойка для одежды, под вешалки. С бутика.   3000.0   \n",
       "2  В хорошем состоянии, домашний кинотеатр с blu ...   4000.0   \n",
       "3                             Продам кресло от0-25кг   2200.0   \n",
       "4                           Все вопросы по телефону.  40000.0   \n",
       "\n",
       "   item_seq_number activation_date user_type  \\\n",
       "0                2      2017-03-28   Private   \n",
       "1               19      2017-03-26   Private   \n",
       "2                9      2017-03-20   Private   \n",
       "3              286      2017-03-25   Company   \n",
       "4                3      2017-03-16   Private   \n",
       "\n",
       "                                               image  image_top_1  \\\n",
       "0  d10c7e016e03247a3bf2d13348fe959fe6f436c1caf64c...       1008.0   \n",
       "1  79c9392cc51a9c81c6eb91eceb8e552171db39d7142700...        692.0   \n",
       "2  b7f250ee3f39e1fedd77c141f273703f4a9be59db4b48a...       3032.0   \n",
       "3  e6ef97e0725637ea84e3d203e82dadb43ed3cc0a1c8413...        796.0   \n",
       "4  54a687a3a0fc1d68aed99bdaaf551c5c70b761b16fd0a2...       2264.0   \n",
       "\n",
       "   deal_probability  \n",
       "0           0.12789  \n",
       "1           0.00000  \n",
       "2           0.43177  \n",
       "3           0.80323  \n",
       "4           0.20797  "
      ]
     },
     "execution_count": 297,
     "metadata": {},
     "output_type": "execute_result"
    }
   ],
   "source": [
    "train = pd.read_csv(train,compression=\"zip\",nrows = 700000)\n",
    "train.head()"
   ]
  },
  {
   "cell_type": "code",
   "execution_count": 8,
   "metadata": {
    "collapsed": false
   },
   "outputs": [],
   "source": [
    "vectors = pr.load_vectors(word_vectors_path, N_VECTORS)"
   ]
  },
  {
   "cell_type": "code",
   "execution_count": 298,
   "metadata": {
    "collapsed": false
   },
   "outputs": [],
   "source": [
    "train[[\"description\", \"title\"]] = train[[\"description\", \"title\"]].fillna('__NA__')\n",
    "train[\"text\"] = train.apply(lambda x: x[\"title\"] + \" END_DESC \" + x[\"description\"], axis=1)"
   ]
  },
  {
   "cell_type": "code",
   "execution_count": 317,
   "metadata": {
    "collapsed": false
   },
   "outputs": [],
   "source": [
    "desc = pr.clean_col(\"text\", train)"
   ]
  },
  {
   "cell_type": "code",
   "execution_count": 319,
   "metadata": {
    "collapsed": false
   },
   "outputs": [],
   "source": [
    "vocab, char_vocab = pr.create_vocab(desc, MAX_VOCAB , MAX_CHAR)"
   ]
  },
  {
   "cell_type": "code",
   "execution_count": 320,
   "metadata": {
    "collapsed": false
   },
   "outputs": [],
   "source": [
    "train_indexed = pr.vocab_lookup(desc ,vocab,  char_vocab)"
   ]
  },
  {
   "cell_type": "code",
   "execution_count": 321,
   "metadata": {
    "collapsed": false
   },
   "outputs": [
    {
     "name": "stdout",
     "output_type": "stream",
     "text": [
      "2963 words were found over a vocab of 4000 which is a ratio of 0.74\n"
     ]
    }
   ],
   "source": [
    "mat, novect = pr.build_emb(vectors, vocab, EMB_DIM)"
   ]
  },
  {
   "cell_type": "code",
   "execution_count": 322,
   "metadata": {
    "collapsed": false,
    "scrolled": true
   },
   "outputs": [],
   "source": [
    "padded_words = sequence.pad_sequences(train_indexed['word_id'], maxlen= PAD_LEN_WORD)\n",
    "#padded_chars = [sequence.pad_sequences(s, maxlen= PAD_LEN_CHAR) for s in train_indexed['char_id']]"
   ]
  },
  {
   "cell_type": "code",
   "execution_count": 305,
   "metadata": {
    "collapsed": false
   },
   "outputs": [],
   "source": [
    "#training params\n",
    "batch_size = 17 \n",
    "num_epochs = 32\n",
    "\n",
    "#model parameters\n",
    "num_filters = 32 \n",
    "EMB_DIM = 300 \n",
    "weight_decay = 1e-7\n",
    "\n",
    "num_classes = 1\n",
    "\n",
    "def rmse(y_true, y_pred):\n",
    "    return K.sqrt(K.mean(K.pow(y_pred-y_true, 2)))"
   ]
  },
  {
   "cell_type": "code",
   "execution_count": 306,
   "metadata": {
    "collapsed": true
   },
   "outputs": [],
   "source": [
    "import keras\n",
    "from keras import optimizers\n",
    "from keras import backend as K\n",
    "from keras import regularizers\n",
    "from keras.models import Sequential\n",
    "from keras.layers import Dense, Activation, Dropout, Flatten\n",
    "from keras.layers import Embedding, Conv1D, MaxPooling1D, GlobalMaxPooling1D , GlobalAveragePooling1D, AveragePooling1D\n",
    "from keras.utils import plot_model\n",
    "from keras.preprocessing import sequence\n",
    "from keras.preprocessing.text import Tokenizer\n",
    "from keras.callbacks import EarlyStopping"
   ]
  },
  {
   "cell_type": "code",
   "execution_count": 311,
   "metadata": {
    "collapsed": false,
    "scrolled": false
   },
   "outputs": [
    {
     "name": "stdout",
     "output_type": "stream",
     "text": [
      "_________________________________________________________________\n",
      "Layer (type)                 Output Shape              Param #   \n",
      "=================================================================\n",
      "embedding_52 (Embedding)     (None, 35, 300)           1200300   \n",
      "_________________________________________________________________\n",
      "dropout_77 (Dropout)         (None, 35, 300)           0         \n",
      "_________________________________________________________________\n",
      "conv1d_93 (Conv1D)           (None, 35, 32)            67232     \n",
      "_________________________________________________________________\n",
      "average_pooling1d_16 (Averag (None, 17, 32)            0         \n",
      "_________________________________________________________________\n",
      "conv1d_94 (Conv1D)           (None, 17, 30)            6750      \n",
      "_________________________________________________________________\n",
      "global_average_pooling1d_16  (None, 30)                0         \n",
      "_________________________________________________________________\n",
      "dropout_78 (Dropout)         (None, 30)                0         \n",
      "_________________________________________________________________\n",
      "dense_85 (Dense)             (None, 12)                372       \n",
      "_________________________________________________________________\n",
      "dense_86 (Dense)             (None, 1)                 13        \n",
      "=================================================================\n",
      "Total params: 1,274,667\n",
      "Trainable params: 74,367\n",
      "Non-trainable params: 1,200,300\n",
      "_________________________________________________________________\n"
     ]
    }
   ],
   "source": [
    "model = Sequential()\n",
    "model.add(Embedding(MAX_VOCAB + 1 , EMB_DIM,\n",
    "          weights=[mat], input_length=PAD_LEN_WORD, trainable=False))\n",
    "model.add(Dropout(0.5))\n",
    "model.add(Conv1D(num_filters, 7, activation='relu', padding='same'))\n",
    "model.add(AveragePooling1D(2))\n",
    "model.add(Conv1D(num_filters - 2, 7, activation='relu', padding='same'))\n",
    "model.add(GlobalAveragePooling1D())\n",
    "model.add(Dropout(0.5))\n",
    "model.add(Dense(12, activation='relu', kernel_regularizer=regularizers.l2(weight_decay)))\n",
    "model.add(Dense(num_classes))\n",
    "\n",
    "adam = optimizers.Adam(lr=0.001, beta_1=0.9, beta_2=0.999, epsilon=1e-08, decay=0.0)\n",
    "model.compile(loss='mean_absolute_error', optimizer=adam, metrics=[rmse, \"mae\"])\n",
    "model.summary()"
   ]
  },
  {
   "cell_type": "markdown",
   "metadata": {},
   "source": [
    "best VAL RMSE loss 0.2845/0.2634"
   ]
  },
  {
   "cell_type": "code",
   "execution_count": 312,
   "metadata": {
    "collapsed": false,
    "scrolled": false
   },
   "outputs": [
    {
     "name": "stdout",
     "output_type": "stream",
     "text": [
      "Train on 90000 samples, validate on 10000 samples\n",
      "Epoch 1/32\n",
      " - 99s - loss: 0.1404 - rmse: 0.2870 - mean_absolute_error: 0.1404 - val_loss: 0.1373 - val_rmse: 0.2845 - val_mean_absolute_error: 0.1373\n",
      "Epoch 2/32\n",
      " - 98s - loss: 0.1402 - rmse: 0.2863 - mean_absolute_error: 0.1402 - val_loss: 0.1372 - val_rmse: 0.2847 - val_mean_absolute_error: 0.1372\n",
      "Epoch 3/32\n",
      " - 99s - loss: 0.1402 - rmse: 0.2864 - mean_absolute_error: 0.1402 - val_loss: 0.1372 - val_rmse: 0.2846 - val_mean_absolute_error: 0.1372\n",
      "Epoch 4/32\n",
      " - 103s - loss: 0.1402 - rmse: 0.2865 - mean_absolute_error: 0.1402 - val_loss: 0.1372 - val_rmse: 0.2847 - val_mean_absolute_error: 0.1372\n",
      "Epoch 5/32\n",
      " - 98s - loss: 0.1402 - rmse: 0.2864 - mean_absolute_error: 0.1402 - val_loss: 0.1372 - val_rmse: 0.2847 - val_mean_absolute_error: 0.1372\n",
      "Epoch 6/32\n",
      " - 99s - loss: 0.1402 - rmse: 0.2867 - mean_absolute_error: 0.1402 - val_loss: 0.1372 - val_rmse: 0.2847 - val_mean_absolute_error: 0.1372\n",
      "Epoch 7/32\n",
      " - 97s - loss: 0.1402 - rmse: 0.2867 - mean_absolute_error: 0.1402 - val_loss: 0.1372 - val_rmse: 0.2847 - val_mean_absolute_error: 0.1372\n",
      "Epoch 8/32\n",
      " - 97s - loss: 0.1402 - rmse: 0.2866 - mean_absolute_error: 0.1402 - val_loss: 0.1372 - val_rmse: 0.2847 - val_mean_absolute_error: 0.1372\n",
      "Epoch 9/32\n",
      " - 98s - loss: 0.1402 - rmse: 0.2869 - mean_absolute_error: 0.1402 - val_loss: 0.1372 - val_rmse: 0.2847 - val_mean_absolute_error: 0.1372\n",
      "Epoch 10/32\n",
      " - 97s - loss: 0.1402 - rmse: 0.2869 - mean_absolute_error: 0.1402 - val_loss: 0.1373 - val_rmse: 0.2845 - val_mean_absolute_error: 0.1373\n",
      "Epoch 11/32\n",
      " - 97s - loss: 0.1402 - rmse: 0.2868 - mean_absolute_error: 0.1402 - val_loss: 0.1372 - val_rmse: 0.2847 - val_mean_absolute_error: 0.1372\n",
      "Epoch 12/32\n",
      " - 98s - loss: 0.1402 - rmse: 0.2868 - mean_absolute_error: 0.1402 - val_loss: 0.1372 - val_rmse: 0.2846 - val_mean_absolute_error: 0.1372\n",
      "Epoch 13/32\n",
      " - 97s - loss: 0.1402 - rmse: 0.2869 - mean_absolute_error: 0.1402 - val_loss: 0.1372 - val_rmse: 0.2847 - val_mean_absolute_error: 0.1372\n",
      "Epoch 14/32\n",
      " - 98s - loss: 0.1402 - rmse: 0.2868 - mean_absolute_error: 0.1402 - val_loss: 0.1372 - val_rmse: 0.2847 - val_mean_absolute_error: 0.1372\n",
      "Epoch 15/32\n",
      " - 97s - loss: 0.1402 - rmse: 0.2870 - mean_absolute_error: 0.1402 - val_loss: 0.1372 - val_rmse: 0.2847 - val_mean_absolute_error: 0.1372\n",
      "Epoch 16/32\n",
      " - 97s - loss: 0.1402 - rmse: 0.2865 - mean_absolute_error: 0.1402 - val_loss: 0.1372 - val_rmse: 0.2847 - val_mean_absolute_error: 0.1372\n",
      "Epoch 17/32\n",
      " - 97s - loss: 0.1402 - rmse: 0.2864 - mean_absolute_error: 0.1402 - val_loss: 0.1373 - val_rmse: 0.2848 - val_mean_absolute_error: 0.1373\n",
      "Epoch 18/32\n",
      " - 97s - loss: 0.1402 - rmse: 0.2863 - mean_absolute_error: 0.1402 - val_loss: 0.1372 - val_rmse: 0.2847 - val_mean_absolute_error: 0.1372\n",
      "Epoch 19/32\n",
      " - 97s - loss: 0.1402 - rmse: 0.2868 - mean_absolute_error: 0.1402 - val_loss: 0.1373 - val_rmse: 0.2848 - val_mean_absolute_error: 0.1373\n",
      "Epoch 20/32\n",
      " - 97s - loss: 0.1402 - rmse: 0.2870 - mean_absolute_error: 0.1402 - val_loss: 0.1374 - val_rmse: 0.2844 - val_mean_absolute_error: 0.1374\n",
      "Epoch 21/32\n",
      " - 97s - loss: 0.1402 - rmse: 0.2864 - mean_absolute_error: 0.1402 - val_loss: 0.1373 - val_rmse: 0.2845 - val_mean_absolute_error: 0.1373\n",
      "Epoch 22/32\n",
      " - 97s - loss: 0.1402 - rmse: 0.2864 - mean_absolute_error: 0.1402 - val_loss: 0.1373 - val_rmse: 0.2845 - val_mean_absolute_error: 0.1373\n",
      "Epoch 23/32\n",
      " - 97s - loss: 0.1402 - rmse: 0.2869 - mean_absolute_error: 0.1402 - val_loss: 0.1372 - val_rmse: 0.2847 - val_mean_absolute_error: 0.1372\n",
      "Epoch 24/32\n",
      " - 98s - loss: 0.1402 - rmse: 0.2864 - mean_absolute_error: 0.1402 - val_loss: 0.1373 - val_rmse: 0.2846 - val_mean_absolute_error: 0.1373\n",
      "Epoch 25/32\n",
      " - 97s - loss: 0.1402 - rmse: 0.2867 - mean_absolute_error: 0.1402 - val_loss: 0.1373 - val_rmse: 0.2845 - val_mean_absolute_error: 0.1373\n",
      "Epoch 26/32\n",
      " - 97s - loss: 0.1402 - rmse: 0.2869 - mean_absolute_error: 0.1402 - val_loss: 0.1373 - val_rmse: 0.2848 - val_mean_absolute_error: 0.1373\n",
      "Epoch 27/32\n",
      " - 97s - loss: 0.1402 - rmse: 0.2867 - mean_absolute_error: 0.1402 - val_loss: 0.1374 - val_rmse: 0.2848 - val_mean_absolute_error: 0.1374\n",
      "Epoch 28/32\n",
      " - 97s - loss: 0.1402 - rmse: 0.2868 - mean_absolute_error: 0.1402 - val_loss: 0.1373 - val_rmse: 0.2848 - val_mean_absolute_error: 0.1373\n",
      "Epoch 29/32\n",
      " - 97s - loss: 0.1402 - rmse: 0.2866 - mean_absolute_error: 0.1402 - val_loss: 0.1372 - val_rmse: 0.2847 - val_mean_absolute_error: 0.1372\n",
      "Epoch 30/32\n",
      " - 97s - loss: 0.1402 - rmse: 0.2867 - mean_absolute_error: 0.1402 - val_loss: 0.1372 - val_rmse: 0.2846 - val_mean_absolute_error: 0.1372\n",
      "Epoch 31/32\n",
      " - 97s - loss: 0.1402 - rmse: 0.2868 - mean_absolute_error: 0.1402 - val_loss: 0.1373 - val_rmse: 0.2845 - val_mean_absolute_error: 0.1373\n",
      "Epoch 32/32\n",
      " - 97s - loss: 0.1402 - rmse: 0.2867 - mean_absolute_error: 0.1402 - val_loss: 0.1374 - val_rmse: 0.2848 - val_mean_absolute_error: 0.1374\n"
     ]
    }
   ],
   "source": [
    "#early_stopping = EarlyStopping(monitor='val_loss', min_delta=0.01, patience=4, verbose=1)\n",
    "#callbacks_list = [early_stopping]\n",
    "hist = model.fit(padded_words[:100000], np.array(train.deal_probability[:100000]), batch_size=batch_size, epochs=num_epochs, validation_split=0.1, shuffle=True, verbose=2)"
   ]
  },
  {
   "cell_type": "code",
   "execution_count": 324,
   "metadata": {
    "collapsed": false
   },
   "outputs": [
    {
     "data": {
      "image/png": "[encoded data removed]",
      "text/plain": [
       "<matplotlib.figure.Figure at 0x20031d71400>"
      ]
     },
     "metadata": {},
     "output_type": "display_data"
    }
   ],
   "source": [
    "import matplotlib.pyplot as plt\n",
    "\n",
    "plt.figure()\n",
    "plt.plot(hist.history['rmse'], lw=2.0, color='b', label='train')\n",
    "plt.plot(hist.history['val_rmse'], lw=2.0, color='r', label='val')\n",
    "#plt.plot([np.sqrt(h)/15 for h in hist.history[\"mean_absolute_error\"]], lw=2.0, color='r', label='rmae/15')\n",
    "plt.title('CNN sentiment')\n",
    "plt.xlabel('Epochs')\n",
    "plt.ylabel('Cross-Entropy Loss')\n",
    "plt.legend(loc='upper right')\n",
    "plt.show()"
   ]
  },
  {
   "cell_type": "code",
   "execution_count": 288,
   "metadata": {
    "collapsed": false
   },
   "outputs": [
    {
     "data": {
      "text/plain": [
       "array([[-8.519260e-06],\n",
       "       [-8.519260e-06],\n",
       "       [-8.519260e-06],\n",
       "       [-8.519260e-06],\n",
       "       [ 2.359216e-01],\n",
       "       [-8.519260e-06],\n",
       "       [-8.519260e-06],\n",
       "       [-8.519260e-06],\n",
       "       [-8.519260e-06],\n",
       "       [-8.519260e-06]], dtype=float32)"
      ]
     },
     "execution_count": 288,
     "metadata": {},
     "output_type": "execute_result"
    }
   ],
   "source": [
    "model.predict(padded_words[:10])"
   ]
  },
  {
   "cell_type": "markdown",
   "metadata": {},
   "source": [
    "simple features:\n",
    "    - length of description.\n",
    "    - number of words per sentence.\n",
    "    - punctuation.\n",
    "    - number of bullet points\n",
    "    - location in description\n",
    "    - brands\n",
    "    - number of items (enumerations)\n",
    "    - nb of words/Price\n",
    "    - nb of words matching between parameters/region/city/category... and text\n",
    "    \n",
    "- image features\n",
    "    - number of words matching in VQA Object recognition.\n",
    "    - nb "
   ]
  },
  {
   "cell_type": "code",
   "execution_count": 284,
   "metadata": {
    "collapsed": false
   },
   "outputs": [
    {
     "data": {
      "text/plain": [
       "(1501,)"
      ]
     },
     "execution_count": 284,
     "metadata": {},
     "output_type": "execute_result"
    }
   ],
   "source": [
    "mat.mean(axis=1).shape"
   ]
  },
  {
   "cell_type": "code",
   "execution_count": 377,
   "metadata": {
    "collapsed": false
   },
   "outputs": [
    {
     "data": {
      "text/plain": [
       "[[316, 1129, 316, 1129, 49, 11, 316, 1129, 316, 1129, 1353],\n",
       " [444, 731, 2543],\n",
       " [16, 1353, 690]]"
      ]
     },
     "execution_count": 377,
     "metadata": {},
     "output_type": "execute_result"
    }
   ],
   "source": [
    "train_indexed['char_id'][0]"
   ]
  },
  {
   "cell_type": "code",
   "execution_count": 347,
   "metadata": {
    "collapsed": false
   },
   "outputs": [
    {
     "data": {
      "text/plain": [
       "array([-4.0119e-01,  1.9276e-01,  2.6953e-01,  1.2451e-01,  1.0361e-02,\n",
       "       -3.0632e-01,  2.5226e-01, -6.7911e-01,  1.9993e-01, -9.1028e-05,\n",
       "       -6.7950e-02, -5.2050e-01,  6.7300e-01,  6.0952e-01,  3.8034e-01,\n",
       "       -6.1139e-02,  1.5281e-02, -3.8507e-01,  4.1631e-03,  3.8783e-01,\n",
       "        3.4742e-01, -2.7130e-01, -4.2755e-01,  1.7342e-02, -5.1201e-01,\n",
       "        2.6295e-01,  2.3738e-02,  5.6049e-01,  5.2400e-01, -2.1016e-01,\n",
       "       -2.4639e-02,  2.7169e-01,  2.8834e-01, -8.7269e-01,  4.3432e-02,\n",
       "        3.4496e-01,  5.3472e-01, -2.6523e-01,  4.2067e-01, -1.1701e-01,\n",
       "        1.9545e-02,  2.8065e-01, -2.1210e-01,  2.2936e-01, -2.9142e-01,\n",
       "       -9.6172e-02,  2.4272e-02, -4.9679e-02, -4.2348e-01, -4.4959e-01,\n",
       "        2.6057e-01,  2.7494e-01, -4.1443e-01, -2.7086e-02,  3.7125e-03,\n",
       "       -2.8605e-01,  4.1747e-01,  7.0474e-02, -2.2134e-01, -3.5308e-01,\n",
       "       -6.5496e-02,  4.9476e-01,  1.8795e-01,  2.3644e-01, -2.4493e-01,\n",
       "       -5.6401e-02,  1.6715e-01,  1.2999e-01,  4.5418e-01, -1.0125e-01,\n",
       "        1.1408e-01, -2.8521e-01, -8.7442e-02, -1.7111e-01,  2.9436e-01,\n",
       "       -4.3063e-01,  1.1743e-01,  1.5901e-02, -1.3208e-01,  3.9817e-01,\n",
       "        6.4918e-02, -6.1666e-02,  5.5214e-01,  7.2498e-02, -1.5089e-02,\n",
       "        1.1955e-01, -9.8423e-02,  2.3088e-01, -1.9128e-01, -2.6511e-02,\n",
       "       -1.5394e-01,  6.3386e-02,  2.6873e-01,  3.0748e-01, -4.1155e-01,\n",
       "        4.1389e-02,  4.3617e-03, -2.3852e-01,  5.4029e-02, -1.2283e-01,\n",
       "       -3.8116e-01,  2.1601e-01, -7.8890e-01,  4.7167e-02,  4.6620e-02,\n",
       "        3.2899e-01, -3.7504e-01, -4.8070e-01,  2.8005e-01,  2.4574e-01,\n",
       "        4.4207e-02,  2.8438e-01, -6.2640e-01, -2.1809e-01,  5.6189e-02,\n",
       "        8.2745e-01,  3.2765e-01,  3.8536e-02, -4.3560e-02, -3.0363e-01,\n",
       "        2.3783e-01, -5.1495e-01,  2.0897e-01, -4.2016e-01,  1.0524e-01,\n",
       "       -5.7595e-01, -6.5047e-02,  3.8012e-01,  3.4904e-01,  3.5785e-01,\n",
       "        9.4641e-02,  2.8425e-02, -2.7333e-01,  4.4421e-02, -3.1294e-01,\n",
       "       -1.3648e-01, -8.1205e-02,  1.5256e-01,  1.7547e-02,  1.5387e-01,\n",
       "        2.3850e-01, -5.6440e-01,  2.6047e-01, -3.8749e-01, -2.2984e-01,\n",
       "       -2.4871e-01, -8.4113e-02,  5.3382e-01, -3.5910e-01, -2.4240e-01,\n",
       "       -4.6544e-01,  1.0616e-01,  1.0002e-01, -7.9216e-02, -1.5737e-01,\n",
       "        3.0372e-01,  1.6772e-01,  1.7380e-01,  3.8813e-01, -4.7218e-02,\n",
       "       -6.0075e-02,  1.7977e-01, -1.5575e-01,  3.1244e-02, -4.8225e-01,\n",
       "        6.0771e-01,  1.8702e-01, -7.4913e-01, -1.0907e-01,  3.9009e-01,\n",
       "       -3.2476e-01, -1.2637e-01,  1.3653e-02,  1.5837e-01,  9.0505e-02,\n",
       "       -8.9516e-02, -6.4759e-02,  3.1415e-01,  2.2700e-01,  2.7618e-01,\n",
       "       -1.5391e-01, -2.7640e-01, -4.4503e-01,  7.2301e-02,  4.4883e-01,\n",
       "       -2.5928e-01,  5.8593e-02, -2.3366e-01,  6.3566e-01,  7.4833e-02,\n",
       "        6.6956e-02,  4.9978e-01,  2.0349e-01,  6.9962e-02, -2.8755e-02,\n",
       "       -3.9444e-01, -1.2064e-01,  1.9380e-01,  2.5781e-01, -1.0691e-01,\n",
       "        1.0102e-01, -1.5518e-01, -2.7793e-01, -3.3394e-01,  1.9618e-01,\n",
       "        1.2072e-01,  1.9298e-01, -1.1720e-01, -2.5160e-01,  5.5946e-01,\n",
       "       -6.8795e-01, -4.9823e-01, -4.2340e-01, -5.6498e-01,  2.7768e-01,\n",
       "       -2.8254e-01,  1.4471e-01,  2.4688e-01, -1.1048e-01,  5.2745e-02,\n",
       "       -3.7555e-01,  1.3503e-01,  1.2312e-01, -3.8350e-01,  1.9020e-01,\n",
       "        2.0284e-01, -1.1044e-02,  3.9527e-01,  3.2338e-01, -1.4515e-01,\n",
       "       -1.8107e-01, -1.3659e-01,  1.2921e-01, -8.7440e-02, -2.4639e-01,\n",
       "        3.2468e-01, -4.3675e-01,  4.5887e-01,  5.7526e-02,  2.3164e-01,\n",
       "       -3.7554e-01, -2.0225e-01, -5.5526e-01,  3.4601e-01,  1.8840e-01,\n",
       "       -5.6496e-01,  2.7499e-01,  1.3769e-01,  1.9144e-01, -3.2495e-01,\n",
       "       -2.7307e-02, -5.0303e-01,  2.5987e-01,  1.7622e-01,  2.9411e-01,\n",
       "        9.3410e-02, -6.2490e-01, -2.9018e-01, -2.6663e-01, -3.2792e-01,\n",
       "       -1.0689e-02,  2.0209e-01, -1.5366e-01, -1.5300e-01, -2.9567e-01,\n",
       "        1.7845e-01,  3.7501e-01, -2.0517e-02, -3.5461e-01,  3.6779e-01,\n",
       "        2.0637e-01, -2.6787e-01, -1.0039e-01, -5.8757e-01, -2.5135e-01,\n",
       "       -1.3926e-01,  3.3402e-01,  3.4237e-01,  2.0423e-01, -3.3232e-01,\n",
       "        4.6859e-02, -2.3648e-01, -2.0510e-02,  6.3430e-01, -3.2346e-03,\n",
       "        1.4042e-01, -2.3347e-01,  1.6836e-01,  3.9002e-02, -1.6082e-01,\n",
       "       -2.8006e-01,  3.1312e-01,  2.2708e-01, -6.9103e-02,  3.4883e-02,\n",
       "       -4.7403e-01, -7.9415e-02,  2.7425e-01,  2.7384e-01, -5.8228e-01],\n",
       "      dtype=float32)"
      ]
     },
     "execution_count": 347,
     "metadata": {},
     "output_type": "execute_result"
    }
   ],
   "source": [
    "vectors[\"склад\"]"
   ]
  },
  {
   "cell_type": "code",
   "execution_count": 168,
   "metadata": {
    "collapsed": true
   },
   "outputs": [],
   "source": []
  },
  {
   "cell_type": "code",
   "execution_count": 167,
   "metadata": {
    "collapsed": true
   },
   "outputs": [],
   "source": [
    "K.pow?"
   ]
  },
  {
   "cell_type": "code",
   "execution_count": null,
   "metadata": {
    "collapsed": true
   },
   "outputs": [],
   "source": []
  }
 ],
 "metadata": {
  "anaconda-cloud": {},
  "kernelspec": {
   "display_name": "Python [conda env:tensorflow]",
   "language": "python",
   "name": "conda-env-tensorflow-py"
  },
  "language_info": {
   "codemirror_mode": {
    "name": "ipython",
    "version": 3
   },
   "file_extension": ".py",
   "mimetype": "text/x-python",
   "name": "python",
   "nbconvert_exporter": "python",
   "pygments_lexer": "ipython3",
   "version": "3.5.2"
  }
 },
 "nbformat": 4,
 "nbformat_minor": 1
}
