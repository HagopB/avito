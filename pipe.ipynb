{
 "cells": [
  {
   "cell_type": "code",
   "execution_count": 149,
   "metadata": {
    "collapsed": false
   },
   "outputs": [
    {
     "name": "stdout",
     "output_type": "stream",
     "text": [
      "The autoreload extension is already loaded. To reload it, use:\n",
      "  %reload_ext autoreload\n"
     ]
    }
   ],
   "source": [
    "import os\n",
    "import pandas as pd\n",
    "\n",
    "from autoconfig import AutoConfig\n",
    "config_file_name = \"config.ini\"\n",
    "script_path = os.getcwd()\n",
    "\n",
    "conf_file = os.path.join(script_path, config_file_name)\n",
    "conf = AutoConfig(conf_file)\n",
    "\n",
    "%load_ext autoreload\n",
    "%autoreload 2"
   ]
  },
  {
   "cell_type": "code",
   "execution_count": 161,
   "metadata": {
    "collapsed": false
   },
   "outputs": [],
   "source": [
    "train_path = os.path.join(conf.path.input_path, \"train.csv.zip\")\n",
    "test_path = os.path.join(conf.path.input_path, \"test.csv.zip\")\n",
    "conf.path.word_vectors_path = os.path.join(conf.path.input_path, \"wiki.ru.vec\") # bunch of russian w2v http://rusvectores.org/en/models/"
   ]
  },
  {
   "cell_type": "code",
   "execution_count": 163,
   "metadata": {
    "collapsed": false
   },
   "outputs": [],
   "source": [
    "train = pd.read_csv(train_path,compression=\"zip\",nrows = 5000)\n",
    "test = pd.read_csv(test_path,compression=\"zip\",nrows = 5000)"
   ]
  },
  {
   "cell_type": "code",
   "execution_count": 164,
   "metadata": {
    "collapsed": false
   },
   "outputs": [],
   "source": [
    "from pipeline import Pipeline"
   ]
  },
  {
   "cell_type": "code",
   "execution_count": 165,
   "metadata": {
    "collapsed": false
   },
   "outputs": [],
   "source": [
    "pi = Pipeline(conf, train, test)"
   ]
  },
  {
   "cell_type": "code",
   "execution_count": 226,
   "metadata": {
    "collapsed": false
   },
   "outputs": [
    {
     "name": "stdout",
     "output_type": "stream",
     "text": [
      "loading vectors..\n",
      "preparing data...\n",
      "cleaning text...\n",
      "3058 words were found over a vocab of 4000 which is a ratio of 0.76\n"
     ]
    }
   ],
   "source": [
    "vocab, mat, train_cont, test_cont, target = pi.pipe()"
   ]
  },
  {
   "cell_type": "code",
   "execution_count": 227,
   "metadata": {
    "collapsed": false
   },
   "outputs": [
    {
     "name": "stdout",
     "output_type": "stream",
     "text": [
      "__________________________________________________________________________________________________\n",
      "Layer (type)                    Output Shape         Param #     Connected to                     \n",
      "==================================================================================================\n",
      "input_254 (InputLayer)          (None, 35)           0                                            \n",
      "__________________________________________________________________________________________________\n",
      "embedding_81 (Embedding)        (None, 35, 300)      1200300     input_254[0][0]                  \n",
      "__________________________________________________________________________________________________\n",
      "dropout_87 (Dropout)            (None, 35, 300)      0           embedding_81[0][0]               \n",
      "__________________________________________________________________________________________________\n",
      "input_256 (InputLayer)          (None, 1)            0                                            \n",
      "__________________________________________________________________________________________________\n",
      "input_258 (InputLayer)          (None, 1)            0                                            \n",
      "__________________________________________________________________________________________________\n",
      "input_259 (InputLayer)          (None, 1)            0                                            \n",
      "__________________________________________________________________________________________________\n",
      "input_260 (InputLayer)          (None, 1)            0                                            \n",
      "__________________________________________________________________________________________________\n",
      "input_261 (InputLayer)          (None, 1)            0                                            \n",
      "__________________________________________________________________________________________________\n",
      "input_262 (InputLayer)          (None, 1)            0                                            \n",
      "__________________________________________________________________________________________________\n",
      "input_263 (InputLayer)          (None, 1)            0                                            \n",
      "__________________________________________________________________________________________________\n",
      "conv1d_31 (Conv1D)              (None, 35, 32)       67232       dropout_87[0][0]                 \n",
      "__________________________________________________________________________________________________\n",
      "embedding_82 (Embedding)        (None, 1, 25)        2300        input_256[0][0]                  \n",
      "__________________________________________________________________________________________________\n",
      "embedding_83 (Embedding)        (None, 1, 25)        450         input_258[0][0]                  \n",
      "__________________________________________________________________________________________________\n",
      "embedding_84 (Embedding)        (None, 1, 25)        1400        input_259[0][0]                  \n",
      "__________________________________________________________________________________________________\n",
      "embedding_85 (Embedding)        (None, 1, 25)        22025       input_260[0][0]                  \n",
      "__________________________________________________________________________________________________\n",
      "embedding_86 (Embedding)        (None, 1, 25)        71425       input_261[0][0]                  \n",
      "__________________________________________________________________________________________________\n",
      "embedding_87 (Embedding)        (None, 1, 25)        150         input_262[0][0]                  \n",
      "__________________________________________________________________________________________________\n",
      "embedding_88 (Embedding)        (None, 1, 25)        350         input_263[0][0]                  \n",
      "__________________________________________________________________________________________________\n",
      "average_pooling1d_11 (AveragePo (None, 17, 32)       0           conv1d_31[0][0]                  \n",
      "__________________________________________________________________________________________________\n",
      "reshape_57 (Reshape)            (None, 25)           0           embedding_82[0][0]               \n",
      "__________________________________________________________________________________________________\n",
      "reshape_58 (Reshape)            (None, 25)           0           embedding_83[0][0]               \n",
      "__________________________________________________________________________________________________\n",
      "reshape_59 (Reshape)            (None, 25)           0           embedding_84[0][0]               \n",
      "__________________________________________________________________________________________________\n",
      "reshape_60 (Reshape)            (None, 25)           0           embedding_85[0][0]               \n",
      "__________________________________________________________________________________________________\n",
      "reshape_61 (Reshape)            (None, 25)           0           embedding_86[0][0]               \n",
      "__________________________________________________________________________________________________\n",
      "reshape_62 (Reshape)            (None, 25)           0           embedding_87[0][0]               \n",
      "__________________________________________________________________________________________________\n",
      "reshape_63 (Reshape)            (None, 25)           0           embedding_88[0][0]               \n",
      "__________________________________________________________________________________________________\n",
      "conv1d_32 (Conv1D)              (None, 17, 28)       6300        average_pooling1d_11[0][0]       \n",
      "__________________________________________________________________________________________________\n",
      "dropout_88 (Dropout)            (None, 25)           0           reshape_57[0][0]                 \n",
      "__________________________________________________________________________________________________\n",
      "dropout_89 (Dropout)            (None, 25)           0           reshape_58[0][0]                 \n",
      "__________________________________________________________________________________________________\n",
      "dropout_90 (Dropout)            (None, 25)           0           reshape_59[0][0]                 \n",
      "__________________________________________________________________________________________________\n",
      "dropout_91 (Dropout)            (None, 25)           0           reshape_60[0][0]                 \n",
      "__________________________________________________________________________________________________\n",
      "dropout_92 (Dropout)            (None, 25)           0           reshape_61[0][0]                 \n",
      "__________________________________________________________________________________________________\n",
      "dropout_93 (Dropout)            (None, 25)           0           reshape_62[0][0]                 \n",
      "__________________________________________________________________________________________________\n",
      "dropout_94 (Dropout)            (None, 25)           0           reshape_63[0][0]                 \n",
      "__________________________________________________________________________________________________\n",
      "input_255 (InputLayer)          (None, 8)            0                                            \n",
      "__________________________________________________________________________________________________\n",
      "global_average_pooling1d_10 (Gl (None, 28)           0           conv1d_32[0][0]                  \n",
      "__________________________________________________________________________________________________\n",
      "concatenate_7 (Concatenate)     (None, 211)          0           dropout_88[0][0]                 \n",
      "                                                                 dropout_89[0][0]                 \n",
      "                                                                 dropout_90[0][0]                 \n",
      "                                                                 dropout_91[0][0]                 \n",
      "                                                                 dropout_92[0][0]                 \n",
      "                                                                 dropout_93[0][0]                 \n",
      "                                                                 dropout_94[0][0]                 \n",
      "                                                                 input_255[0][0]                  \n",
      "                                                                 global_average_pooling1d_10[0][0]\n",
      "__________________________________________________________________________________________________\n",
      "batch_normalization_7 (BatchNor (None, 211)          844         concatenate_7[0][0]              \n",
      "__________________________________________________________________________________________________\n",
      "dense_16 (Dense)                (None, 35)           7420        batch_normalization_7[0][0]      \n",
      "__________________________________________________________________________________________________\n",
      "dropout_95 (Dropout)            (None, 35)           0           dense_16[0][0]                   \n",
      "__________________________________________________________________________________________________\n",
      "dense_17 (Dense)                (None, 5)            180         dropout_95[0][0]                 \n",
      "__________________________________________________________________________________________________\n",
      "dense_18 (Dense)                (None, 1)            6           dense_17[0][0]                   \n",
      "==================================================================================================\n",
      "Total params: 1,380,382\n",
      "Trainable params: 179,660\n",
      "Non-trainable params: 1,200,722\n",
      "__________________________________________________________________________________________________\n"
     ]
    }
   ],
   "source": [
    "import keras\n",
    "from keras import optimizers\n",
    "from keras import backend as K\n",
    "from keras import regularizers\n",
    "from keras.models import Sequential, Input, Model\n",
    "from keras.layers import Dense, Activation, Dropout, Flatten, BatchNormalization, Reshape\n",
    "from keras.layers.merge import concatenate\n",
    "from keras.layers import Embedding, Conv1D, MaxPooling1D, GlobalMaxPooling1D , GlobalAveragePooling1D, AveragePooling1D\n",
    "from keras.utils import plot_model\n",
    "from keras.preprocessing import sequence\n",
    "from keras.preprocessing.text import Tokenizer\n",
    "from keras.callbacks import EarlyStopping\n",
    "from keras.initializers import RandomUniform\n",
    "\n",
    "import numpy as np\n",
    "\n",
    "def CatEmbLayer(nb_category, CATEGORY_EMB_DIM,\n",
    "                input_of_layer, drop_out = 0.2):\n",
    "    uniform = RandomUniform(\n",
    "                        minval=-np.sqrt(3/CATEGORY_EMB_DIM),  # Suggested by\n",
    "                        maxval= np.sqrt(3/CATEGORY_EMB_DIM))\n",
    "    \n",
    "    category_emb = Embedding(input_dim=nb_category,\n",
    "                        output_dim = CATEGORY_EMB_DIM,\n",
    "                        input_length = 1,\n",
    "                        trainable = True, \n",
    "                        embeddings_initializer=uniform )(input_of_layer)\n",
    "    category_emb = Reshape((CATEGORY_EMB_DIM, ))(category_emb)\n",
    "    category_emb = Dropout(drop_out)(category_emb)\n",
    "    return category_emb\n",
    "\n",
    "def rmse(y_true, y_pred):\n",
    "    return K.sqrt(K.mean(K.pow(y_pred-y_true, 2)))\n",
    "\n",
    "\n",
    "##### MODEL\n",
    "text_input = Input((conf.data_prep.pad_len_word, ))\n",
    "other_feat_input = Input((train_cont[\"other_feat\"][0].shape[1], ))\n",
    "\n",
    "category_input = Input((1, )) #https://arxiv.org/abs/1604.06737\n",
    "sub_category_input = Input((1, ))\n",
    "parent_cat_input = Input((1, ))\n",
    "region_cat_input = Input((1, ))\n",
    "city_cat_input = Input((1, ))\n",
    "image_cat_input = Input((1, ))\n",
    "user_cat_input = Input((1, ))\n",
    "day_cat_input = Input((1, ))\n",
    "\n",
    "\n",
    "m = Embedding(input_dim = conf.data_prep.max_vocab + 1 ,\n",
    "              output_dim =  conf.data_prep.emb_dim,\n",
    "              weights=[mat],\n",
    "              input_length=conf.data_prep.pad_len_word,\n",
    "              trainable=False)(text_input)\n",
    "\n",
    "m = Dropout(0.5)(m)\n",
    "m = Conv1D(int(conf.modelling.num_filters),\n",
    "           int(conf.modelling.filter_size),\n",
    "           activation='relu', padding='same')(m)\n",
    "\n",
    "m = AveragePooling1D(2)(m)\n",
    "\n",
    "m = Conv1D(conf.modelling.num_filters - 4, conf.modelling.filter_size,\n",
    "           activation='relu',\n",
    "           padding='same')(m)\n",
    "m = GlobalAveragePooling1D()(m)\n",
    "\n",
    "category_emb = CatEmbLayer(train_cont['cat_s']['cat'], conf.modelling.category_emb_dim, category_input)\n",
    "parent_cat_emb = CatEmbLayer(train_cont['cat_s'][\"parent_cat\"], conf.modelling.category_emb_dim, parent_cat_input)\n",
    "region_cat_emb = CatEmbLayer(train_cont['cat_s'][\"region_cat\"], conf.modelling.category_emb_dim, region_cat_input)\n",
    "city_cat_emb = CatEmbLayer(train_cont['cat_s'][\"city_cat\"], conf.modelling.category_emb_dim, city_cat_input)\n",
    "image_cat_emb = CatEmbLayer(train_cont['cat_s'][\"image_cat\"], conf.modelling.category_emb_dim, image_cat_input)\n",
    "user_cat_emb = CatEmbLayer(train_cont['cat_s'][\"user_cat\"], conf.modelling.category_emb_dim, user_cat_input)\n",
    "day_cat_emb = CatEmbLayer(train_cont['cat_s'][\"day_cat\"], conf.modelling.category_emb_dim, day_cat_input)\n",
    "\n",
    "m = concatenate([category_emb,\n",
    "                 parent_cat_emb,\n",
    "                 region_cat_emb,\n",
    "                 city_cat_emb,\n",
    "                 image_cat_emb,\n",
    "                 user_cat_emb,\n",
    "                 day_cat_emb,\n",
    "                 other_feat_input,\n",
    "                 m], axis = 1)\n",
    "\n",
    "m = BatchNormalization()(m)\n",
    "\n",
    "m = Dense(35, activation='relu')(m)\n",
    "\n",
    "m = Dropout(0.1)(m)\n",
    "\n",
    "m = Dense(5, activation='relu', kernel_regularizer=regularizers.l2(conf.modelling.weight_decay))(m)\n",
    "\n",
    "output = Dense(1)(m)\n",
    "\n",
    "\n",
    "model = Model(inputs=[category_input,\n",
    "                      parent_cat_input,\n",
    "                      region_cat_input,\n",
    "                      city_cat_input,\n",
    "                      image_cat_input,\n",
    "                      user_cat_input,\n",
    "                      day_cat_input,\n",
    "                      other_feat_input,\n",
    "                      text_input] , \n",
    "              outputs= output,\n",
    "              name='sec_model')\n",
    "adam = optimizers.Adam(lr=0.0001, beta_1=0.9,\n",
    "                       beta_2=0.999, epsilon=1e-08,\n",
    "                       decay=0.01, clipnorm=2.)\n",
    "model.compile(loss='mean_squared_error', #mean squared error might drop to 0 faster than expected\n",
    "              optimizer=adam,\n",
    "              metrics=[rmse, \"mae\"])\n",
    "model.summary()"
   ]
  },
  {
   "cell_type": "code",
   "execution_count": 228,
   "metadata": {
    "collapsed": false
   },
   "outputs": [
    {
     "name": "stdout",
     "output_type": "stream",
     "text": [
      "Train on 4500 samples, validate on 500 samples\n",
      "Epoch 1/3\n",
      " - 6s - loss: 0.6454 - rmse: 0.7911 - mean_absolute_error: 0.6033 - val_loss: 0.3184 - val_rmse: 0.5552 - val_mean_absolute_error: 0.4187\n",
      "Epoch 2/3\n",
      " - 4s - loss: 0.4515 - rmse: 0.6641 - mean_absolute_error: 0.4966 - val_loss: 0.2401 - val_rmse: 0.4823 - val_mean_absolute_error: 0.3613\n",
      "Epoch 3/3\n",
      " - 4s - loss: 0.3876 - rmse: 0.6139 - mean_absolute_error: 0.4573 - val_loss: 0.2101 - val_rmse: 0.4514 - val_mean_absolute_error: 0.3363\n"
     ]
    }
   ],
   "source": [
    "#early_stopping = EarlyStopping(monitor='val_rmse', min_delta=0.01, patience=7, verbose=1)\n",
    "#callbacks_list = [early_stopping]\n",
    "\n",
    "\n",
    "\n",
    "\n",
    "target = np.array(train.deal_probability)\n",
    "\n",
    "hist = model.fit(train_cont['cat_d']['cat_data'] + train_cont['cat_d'][\"parent_data\"] +\\\n",
    "                 train_cont['cat_d'][\"region_data\"] + train_cont['cat_d'][\"city_data\"] + train_cont['cat_d'][\"image_data\"] +\\\n",
    "                 train_cont['cat_d'][\"user_data\"] + train_cont['cat_d'][\"day_data\"] + train_cont[\"other_feat\"]  + \\\n",
    "                 [padded_words] ,\n",
    "                 target,\n",
    "                 batch_size=conf.modelling.batch_size,\n",
    "                 epochs=3,# conf.modelling.num_epochs\n",
    "                 validation_split = 0.1,\n",
    "                 shuffle=True,\n",
    "                 verbose=2, \n",
    "                # callbacks = callbacks_list\n",
    "                )"
   ]
  },
  {
   "cell_type": "code",
   "execution_count": 230,
   "metadata": {
    "collapsed": false
   },
   "outputs": [],
   "source": [
    "preds = model.predict(\n",
    "                 test_cont['cat_d']['cat_data'] + test_cont['cat_d'][\"parent_data\"] +\\\n",
    "                 test_cont['cat_d'][\"region_data\"] + test_cont['cat_d'][\"city_data\"] + test_cont['cat_d'][\"image_data\"] +\\\n",
    "                 test_cont['cat_d'][\"user_data\"] + test_cont['cat_d'][\"day_data\"] + test_cont[\"other_feat\"]  + \\\n",
    "                 [padded_test] ,\n",
    ")"
   ]
  },
  {
   "cell_type": "code",
   "execution_count": 236,
   "metadata": {
    "collapsed": false
   },
   "outputs": [
    {
     "data": {
      "text/plain": [
       "[<matplotlib.lines.Line2D at 0x1f92033a780>]"
      ]
     },
     "execution_count": 236,
     "metadata": {},
     "output_type": "execute_result"
    },
    {
     "data": {
      "image/png": "[encoded data removed]",
      "text/plain": [
       "<matplotlib.figure.Figure at 0x1f9092ef7f0>"
      ]
     },
     "metadata": {},
     "output_type": "display_data"
    }
   ],
   "source": [
    "import matplotlib.pyplot as plt\n",
    "%matplotlib inline\n",
    "plt.plot(preds.flatten())"
   ]
  },
  {
   "cell_type": "code",
   "execution_count": 225,
   "metadata": {
    "collapsed": true
   },
   "outputs": [],
   "source": [
    "# need to build category mappig based on test and train"
   ]
  },
  {
   "cell_type": "code",
   "execution_count": 223,
   "metadata": {
    "collapsed": false
   },
   "outputs": [],
   "source": [
    "padded_words = sequence.pad_sequences(train_cont['indexes'][\"word_id\"], maxlen = conf.data_prep.pad_len_word)\n",
    "padded_test = sequence.pad_sequences(test_cont['indexes'][\"word_id\"], maxlen = conf.data_prep.pad_len_word)"
   ]
  },
  {
   "cell_type": "code",
   "execution_count": 207,
   "metadata": {
    "collapsed": false
   },
   "outputs": [
    {
     "data": {
      "text/plain": [
       "(5000, 35)"
      ]
     },
     "execution_count": 207,
     "metadata": {},
     "output_type": "execute_result"
    }
   ],
   "source": [
    "padded_words.shape"
   ]
  },
  {
   "cell_type": "code",
   "execution_count": 217,
   "metadata": {
    "collapsed": false
   },
   "outputs": [
    {
     "data": {
      "text/plain": [
       "4000"
      ]
     },
     "execution_count": 217,
     "metadata": {},
     "output_type": "execute_result"
    }
   ],
   "source": [
    "np.max(padded_words)"
   ]
  },
  {
   "cell_type": "code",
   "execution_count": null,
   "metadata": {
    "collapsed": true
   },
   "outputs": [],
   "source": []
  }
 ],
 "metadata": {
  "anaconda-cloud": {},
  "kernelspec": {
   "display_name": "Python [conda env:tensorflow]",
   "language": "python",
   "name": "conda-env-tensorflow-py"
  },
  "language_info": {
   "codemirror_mode": {
    "name": "ipython",
    "version": 3
   },
   "file_extension": ".py",
   "mimetype": "text/x-python",
   "name": "python",
   "nbconvert_exporter": "python",
   "pygments_lexer": "ipython3",
   "version": "3.5.2"
  }
 },
 "nbformat": 4,
 "nbformat_minor": 1
}
