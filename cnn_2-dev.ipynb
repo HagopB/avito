{
 "cells": [
  {
   "cell_type": "code",
   "execution_count": 1,
   "metadata": {
    "collapsed": false
   },
   "outputs": [
    {
     "name": "stderr",
     "output_type": "stream",
     "text": [
      "C:\\Users\\arman\\Anaconda3\\envs\\tensorflow\\lib\\site-packages\\h5py\\__init__.py:36: FutureWarning: Conversion of the second argument of issubdtype from `float` to `np.floating` is deprecated. In future, it will be treated as `np.float64 == np.dtype(float).type`.\n",
      "  from ._conv import register_converters as _register_converters\n",
      "Using TensorFlow backend.\n"
     ]
    }
   ],
   "source": [
    "data_path = \"D:/Huge datasets/avito/data\"\n",
    "PAD_LEN_WORD = 35\n",
    "PAD_LEN_CHAR = 20\n",
    "N_VECTORS = 80000\n",
    "EMB_DIM = 300\n",
    "MAX_VOCAB = 4000\n",
    "MAX_CHAR = 125\n",
    "\n",
    "from keras.preprocessing import sequence\n",
    "from keras.layers.merge import concatenate"
   ]
  },
  {
   "cell_type": "code",
   "execution_count": 2,
   "metadata": {
    "collapsed": false
   },
   "outputs": [],
   "source": [
    "%load_ext autoreload\n",
    "%autoreload 2"
   ]
  },
  {
   "cell_type": "code",
   "execution_count": 3,
   "metadata": {
    "collapsed": true
   },
   "outputs": [],
   "source": [
    "import pandas as pd\n",
    "import numpy as np\n",
    "import os"
   ]
  },
  {
   "cell_type": "code",
   "execution_count": 162,
   "metadata": {
    "collapsed": false
   },
   "outputs": [],
   "source": [
    "from text_prep import Preparator"
   ]
  },
  {
   "cell_type": "code",
   "execution_count": 169,
   "metadata": {
    "collapsed": false
   },
   "outputs": [],
   "source": [
    "pr = Preparator()"
   ]
  },
  {
   "cell_type": "code",
   "execution_count": 170,
   "metadata": {
    "collapsed": false
   },
   "outputs": [],
   "source": [
    "train = os.path.join(data_path, \"train.csv.zip\")\n",
    "word_vectors_path = os.path.join(data_path, \"wiki.ru.vec\") # bunch of russian w2v http://rusvectores.org/en/models/"
   ]
  },
  {
   "cell_type": "code",
   "execution_count": 171,
   "metadata": {
    "collapsed": false,
    "scrolled": true
   },
   "outputs": [
    {
     "data": {
      "text/html": [
       "<div>\n",
       "<style scoped>\n",
       "    .dataframe tbody tr th:only-of-type {\n",
       "        vertical-align: middle;\n",
       "    }\n",
       "\n",
       "    .dataframe tbody tr th {\n",
       "        vertical-align: top;\n",
       "    }\n",
       "\n",
       "    .dataframe thead th {\n",
       "        text-align: right;\n",
       "    }\n",
       "</style>\n",
       "<table border=\"1\" class=\"dataframe\">\n",
       "  <thead>\n",
       "    <tr style=\"text-align: right;\">\n",
       "      <th></th>\n",
       "      <th>item_id</th>\n",
       "      <th>user_id</th>\n",
       "      <th>region</th>\n",
       "      <th>city</th>\n",
       "      <th>parent_category_name</th>\n",
       "      <th>category_name</th>\n",
       "      <th>param_1</th>\n",
       "      <th>param_2</th>\n",
       "      <th>param_3</th>\n",
       "      <th>title</th>\n",
       "      <th>description</th>\n",
       "      <th>price</th>\n",
       "      <th>item_seq_number</th>\n",
       "      <th>activation_date</th>\n",
       "      <th>user_type</th>\n",
       "      <th>image</th>\n",
       "      <th>image_top_1</th>\n",
       "      <th>deal_probability</th>\n",
       "    </tr>\n",
       "  </thead>\n",
       "  <tbody>\n",
       "    <tr>\n",
       "      <th>0</th>\n",
       "      <td>b912c3c6a6ad</td>\n",
       "      <td>e00f8ff2eaf9</td>\n",
       "      <td>Свердловская область</td>\n",
       "      <td>Екатеринбург</td>\n",
       "      <td>Личные вещи</td>\n",
       "      <td>Товары для детей и игрушки</td>\n",
       "      <td>Постельные принадлежности</td>\n",
       "      <td>NaN</td>\n",
       "      <td>NaN</td>\n",
       "      <td>Кокоби(кокон для сна)</td>\n",
       "      <td>Кокон для сна малыша,пользовались меньше месяц...</td>\n",
       "      <td>400.0</td>\n",
       "      <td>2</td>\n",
       "      <td>2017-03-28</td>\n",
       "      <td>Private</td>\n",
       "      <td>d10c7e016e03247a3bf2d13348fe959fe6f436c1caf64c...</td>\n",
       "      <td>1008.0</td>\n",
       "      <td>0.12789</td>\n",
       "    </tr>\n",
       "    <tr>\n",
       "      <th>1</th>\n",
       "      <td>2dac0150717d</td>\n",
       "      <td>39aeb48f0017</td>\n",
       "      <td>Самарская область</td>\n",
       "      <td>Самара</td>\n",
       "      <td>Для дома и дачи</td>\n",
       "      <td>Мебель и интерьер</td>\n",
       "      <td>Другое</td>\n",
       "      <td>NaN</td>\n",
       "      <td>NaN</td>\n",
       "      <td>Стойка для Одежды</td>\n",
       "      <td>Стойка для одежды, под вешалки. С бутика.</td>\n",
       "      <td>3000.0</td>\n",
       "      <td>19</td>\n",
       "      <td>2017-03-26</td>\n",
       "      <td>Private</td>\n",
       "      <td>79c9392cc51a9c81c6eb91eceb8e552171db39d7142700...</td>\n",
       "      <td>692.0</td>\n",
       "      <td>0.00000</td>\n",
       "    </tr>\n",
       "    <tr>\n",
       "      <th>2</th>\n",
       "      <td>ba83aefab5dc</td>\n",
       "      <td>91e2f88dd6e3</td>\n",
       "      <td>Ростовская область</td>\n",
       "      <td>Ростов-на-Дону</td>\n",
       "      <td>Бытовая электроника</td>\n",
       "      <td>Аудио и видео</td>\n",
       "      <td>Видео, DVD и Blu-ray плееры</td>\n",
       "      <td>NaN</td>\n",
       "      <td>NaN</td>\n",
       "      <td>Philips bluray</td>\n",
       "      <td>В хорошем состоянии, домашний кинотеатр с blu ...</td>\n",
       "      <td>4000.0</td>\n",
       "      <td>9</td>\n",
       "      <td>2017-03-20</td>\n",
       "      <td>Private</td>\n",
       "      <td>b7f250ee3f39e1fedd77c141f273703f4a9be59db4b48a...</td>\n",
       "      <td>3032.0</td>\n",
       "      <td>0.43177</td>\n",
       "    </tr>\n",
       "    <tr>\n",
       "      <th>3</th>\n",
       "      <td>02996f1dd2ea</td>\n",
       "      <td>bf5cccea572d</td>\n",
       "      <td>Татарстан</td>\n",
       "      <td>Набережные Челны</td>\n",
       "      <td>Личные вещи</td>\n",
       "      <td>Товары для детей и игрушки</td>\n",
       "      <td>Автомобильные кресла</td>\n",
       "      <td>NaN</td>\n",
       "      <td>NaN</td>\n",
       "      <td>Автокресло</td>\n",
       "      <td>Продам кресло от0-25кг</td>\n",
       "      <td>2200.0</td>\n",
       "      <td>286</td>\n",
       "      <td>2017-03-25</td>\n",
       "      <td>Company</td>\n",
       "      <td>e6ef97e0725637ea84e3d203e82dadb43ed3cc0a1c8413...</td>\n",
       "      <td>796.0</td>\n",
       "      <td>0.80323</td>\n",
       "    </tr>\n",
       "    <tr>\n",
       "      <th>4</th>\n",
       "      <td>7c90be56d2ab</td>\n",
       "      <td>ef50846afc0b</td>\n",
       "      <td>Волгоградская область</td>\n",
       "      <td>Волгоград</td>\n",
       "      <td>Транспорт</td>\n",
       "      <td>Автомобили</td>\n",
       "      <td>С пробегом</td>\n",
       "      <td>ВАЗ (LADA)</td>\n",
       "      <td>2110</td>\n",
       "      <td>ВАЗ 2110, 2003</td>\n",
       "      <td>Все вопросы по телефону.</td>\n",
       "      <td>40000.0</td>\n",
       "      <td>3</td>\n",
       "      <td>2017-03-16</td>\n",
       "      <td>Private</td>\n",
       "      <td>54a687a3a0fc1d68aed99bdaaf551c5c70b761b16fd0a2...</td>\n",
       "      <td>2264.0</td>\n",
       "      <td>0.20797</td>\n",
       "    </tr>\n",
       "  </tbody>\n",
       "</table>\n",
       "</div>"
      ],
      "text/plain": [
       "        item_id       user_id                 region              city  \\\n",
       "0  b912c3c6a6ad  e00f8ff2eaf9   Свердловская область      Екатеринбург   \n",
       "1  2dac0150717d  39aeb48f0017      Самарская область            Самара   \n",
       "2  ba83aefab5dc  91e2f88dd6e3     Ростовская область    Ростов-на-Дону   \n",
       "3  02996f1dd2ea  bf5cccea572d              Татарстан  Набережные Челны   \n",
       "4  7c90be56d2ab  ef50846afc0b  Волгоградская область         Волгоград   \n",
       "\n",
       "  parent_category_name               category_name  \\\n",
       "0          Личные вещи  Товары для детей и игрушки   \n",
       "1      Для дома и дачи           Мебель и интерьер   \n",
       "2  Бытовая электроника               Аудио и видео   \n",
       "3          Личные вещи  Товары для детей и игрушки   \n",
       "4            Транспорт                  Автомобили   \n",
       "\n",
       "                       param_1     param_2 param_3                  title  \\\n",
       "0    Постельные принадлежности         NaN     NaN  Кокоби(кокон для сна)   \n",
       "1                       Другое         NaN     NaN      Стойка для Одежды   \n",
       "2  Видео, DVD и Blu-ray плееры         NaN     NaN         Philips bluray   \n",
       "3         Автомобильные кресла         NaN     NaN             Автокресло   \n",
       "4                   С пробегом  ВАЗ (LADA)    2110         ВАЗ 2110, 2003   \n",
       "\n",
       "                                         description    price  \\\n",
       "0  Кокон для сна малыша,пользовались меньше месяц...    400.0   \n",
       "1          Стойка для одежды, под вешалки. С бутика.   3000.0   \n",
       "2  В хорошем состоянии, домашний кинотеатр с blu ...   4000.0   \n",
       "3                             Продам кресло от0-25кг   2200.0   \n",
       "4                           Все вопросы по телефону.  40000.0   \n",
       "\n",
       "   item_seq_number activation_date user_type  \\\n",
       "0                2      2017-03-28   Private   \n",
       "1               19      2017-03-26   Private   \n",
       "2                9      2017-03-20   Private   \n",
       "3              286      2017-03-25   Company   \n",
       "4                3      2017-03-16   Private   \n",
       "\n",
       "                                               image  image_top_1  \\\n",
       "0  d10c7e016e03247a3bf2d13348fe959fe6f436c1caf64c...       1008.0   \n",
       "1  79c9392cc51a9c81c6eb91eceb8e552171db39d7142700...        692.0   \n",
       "2  b7f250ee3f39e1fedd77c141f273703f4a9be59db4b48a...       3032.0   \n",
       "3  e6ef97e0725637ea84e3d203e82dadb43ed3cc0a1c8413...        796.0   \n",
       "4  54a687a3a0fc1d68aed99bdaaf551c5c70b761b16fd0a2...       2264.0   \n",
       "\n",
       "   deal_probability  \n",
       "0           0.12789  \n",
       "1           0.00000  \n",
       "2           0.43177  \n",
       "3           0.80323  \n",
       "4           0.20797  "
      ]
     },
     "execution_count": 171,
     "metadata": {},
     "output_type": "execute_result"
    }
   ],
   "source": [
    "train = pd.read_csv(train,compression=\"zip\",nrows = 50000)\n",
    "train.head()"
   ]
  },
  {
   "cell_type": "code",
   "execution_count": 172,
   "metadata": {
    "collapsed": false
   },
   "outputs": [],
   "source": [
    "vectors = pr.load_vectors(word_vectors_path, N_VECTORS)"
   ]
  },
  {
   "cell_type": "code",
   "execution_count": 173,
   "metadata": {
    "collapsed": false
   },
   "outputs": [],
   "source": [
    "train[[\"description\", \"title\", \"param_1\", \"param_2\", \"param_3\"]] = train[[\"description\", \"title\", \"param_1\", \"param_2\", \"param_3\"]].fillna('__NA__')"
   ]
  },
  {
   "cell_type": "code",
   "execution_count": 207,
   "metadata": {
    "collapsed": false
   },
   "outputs": [],
   "source": [
    "import re\n",
    "from string import punctuation\n",
    "from nltk import sent_tokenize\n",
    "\n",
    "regex = re.compile('[%s]' % re.escape(punctuation))\n",
    "struct = \"/\\n✔;\"\n",
    "struct = re.compile('[%s]' % re.escape(struct))\n",
    "train['price'] = train['price'].fillna(train['price'].median())\n",
    "train[[\"description\", \"title\"]] = train[[\"description\", \"title\"]].fillna('__NA__')\n",
    "\n",
    "train[\"text\"] = train.apply(lambda x: x[\"title\"] + \" END_DESC \" + x[\"description\"], axis=1)\n",
    "train[\"text_len\"] = train.text.map(len)\n",
    "train[\"nb_words\"] = train.text.map(lambda x: len(x.split()))\n",
    "train[\"nb_sents\"] = train.text.map(lambda x: len(sent_tokenize(x)))\n",
    "train[\"nb_punct\"] = train.text.map(lambda x: len(regex.findall(x)))\n",
    "train[\"words_price\"] = train.apply(lambda x: x['price']/x[\"nb_words\"], axis = 1 ) # longer description for more expensive products\n",
    "# ex a long description for flat is more important than for shoes..\n",
    "\n",
    "train['structure'] = train.text.map(lambda x: len(struct.findall(x))/len(x)) # structured text (bullet points carriage, returns etc..)\n",
    "#ex: train.loc[451,\"description\"]\n",
    "train[\"digits_count\"] = train.text.map(lambda x: len(re.findall(\"\\d+\", x))/len(x))\n",
    "\n",
    "## add postag embeddings rippletagger iin python2\n",
    "\n",
    "## NER https://github.com/deepmipt/ner"
   ]
  },
  {
   "cell_type": "code",
   "execution_count": 175,
   "metadata": {
    "collapsed": false
   },
   "outputs": [],
   "source": [
    "from nltk.corpus import stopwords\n",
    "russian_stops = stopwords.open('russian').read().splitlines()\n",
    "\n",
    "def filter_params(param):\n",
    "    return [w.lower() for w in param.split() if w.lower() not in russian_stops ]\n",
    "\n",
    "\n",
    "## /!\\ might be a little slow (optimize with re)\n",
    "train['param_list'] = train.apply(lambda x: filter_params(x[\"param_1\"]) +  filter_params(x[\"param_2\"]) + filter_params(x[\"param_3\"]), axis = 1)\n",
    "train[\"parameter_match\"] = train.apply(lambda x: any([w.lower() in x['param_list'] for w in x[\"text\"].split()]), axis = 1) # can we find some parameters in text?\n",
    "\n",
    "\n",
    "## category embedding\n",
    "unique_cat = train.category_name.unique()\n",
    "index2cat = {c: i for c, i in enumerate(unique_cat)}\n",
    "cat2index = {v:k for k, v in index2cat.items()}"
   ]
  },
  {
   "cell_type": "code",
   "execution_count": 176,
   "metadata": {
    "collapsed": false
   },
   "outputs": [],
   "source": [
    "desc = pr.clean_col(\"text\", train)"
   ]
  },
  {
   "cell_type": "code",
   "execution_count": 177,
   "metadata": {
    "collapsed": false
   },
   "outputs": [],
   "source": [
    "vocab, char_vocab = pr.create_vocab(desc, MAX_VOCAB , MAX_CHAR)"
   ]
  },
  {
   "cell_type": "code",
   "execution_count": 178,
   "metadata": {
    "collapsed": false
   },
   "outputs": [],
   "source": [
    "train_indexed = pr.vocab_lookup(desc ,vocab,  char_vocab)"
   ]
  },
  {
   "cell_type": "code",
   "execution_count": 179,
   "metadata": {
    "collapsed": false
   },
   "outputs": [
    {
     "name": "stdout",
     "output_type": "stream",
     "text": [
      "2965 words were found over a vocab of 4000 which is a ratio of 0.74\n"
     ]
    }
   ],
   "source": [
    "mat, novect = pr.build_emb(vectors, vocab, EMB_DIM)"
   ]
  },
  {
   "cell_type": "code",
   "execution_count": 235,
   "metadata": {
    "collapsed": false,
    "scrolled": true
   },
   "outputs": [],
   "source": [
    "other_features = [\"text_len\", \"nb_words\", \"nb_sents\", \"nb_punct\",\n",
    "                  \"words_price\", \"structure\", \"digits_count\", \"price\"]\n",
    "\n",
    "other_features_dim = len(other_features)\n",
    "\n",
    "padded_words = sequence.pad_sequences(train_indexed['word_id'], maxlen = PAD_LEN_WORD)\n",
    "other_feat = [np.array(train[other_features])]\n",
    "padded_text = [np.array(padded_words[:100000])]\n",
    "#padded_chars = [sequence.pad_sequences(s, maxlen= PAD_LEN_CHAR) for s in train_indexed['char_id']]\n"
   ]
  },
  {
   "cell_type": "code",
   "execution_count": 250,
   "metadata": {
    "collapsed": true
   },
   "outputs": [],
   "source": [
    "import keras\n",
    "from keras import optimizers\n",
    "from keras import backend as K\n",
    "from keras import regularizers\n",
    "from keras.models import Sequential, Input, Model\n",
    "from keras.layers import Dense, Activation, Dropout, Flatten, BatchNormalization, Reshape\n",
    "from keras.layers import Embedding, Conv1D, MaxPooling1D, GlobalMaxPooling1D , GlobalAveragePooling1D, AveragePooling1D\n",
    "from keras.utils import plot_model\n",
    "from keras.preprocessing import sequence\n",
    "from keras.preprocessing.text import Tokenizer\n",
    "from keras.callbacks import EarlyStopping\n",
    "from keras.initializers import RandomUniform"
   ]
  },
  {
   "cell_type": "code",
   "execution_count": 291,
   "metadata": {
    "collapsed": false
   },
   "outputs": [],
   "source": [
    "#training params\n",
    "batch_size = 25 \n",
    "num_epochs = 50\n",
    "\n",
    "#model parameters\n",
    "num_filters = 32 \n",
    "EMB_DIM = 300 \n",
    "weight_decay = 1e-7\n",
    "CATEGORY_EMB_DIM = 5\n",
    "\n",
    "num_classes = 1\n",
    "nb_category = len(unique_cat)\n",
    "\n",
    "def rmse(y_true, y_pred):\n",
    "    return K.sqrt(K.mean(K.pow(y_pred-y_true, 2)))\n",
    "\n",
    "uniform = RandomUniform(\n",
    "                        minval=-np.sqrt(3/CATEGORY_EMB_DIM),  # Suggested by\n",
    "                        maxval= np.sqrt(3/CATEGORY_EMB_DIM))"
   ]
  },
  {
   "cell_type": "code",
   "execution_count": 295,
   "metadata": {
    "collapsed": false,
    "scrolled": false
   },
   "outputs": [
    {
     "name": "stdout",
     "output_type": "stream",
     "text": [
      "__________________________________________________________________________________________________\n",
      "Layer (type)                    Output Shape         Param #     Connected to                     \n",
      "==================================================================================================\n",
      "input_134 (InputLayer)          (None, 35)           0                                            \n",
      "__________________________________________________________________________________________________\n",
      "embedding_80 (Embedding)        (None, 35, 300)      1200300     input_134[0][0]                  \n",
      "__________________________________________________________________________________________________\n",
      "dropout_97 (Dropout)            (None, 35, 300)      0           embedding_80[0][0]               \n",
      "__________________________________________________________________________________________________\n",
      "input_136 (InputLayer)          (None, 1)            0                                            \n",
      "__________________________________________________________________________________________________\n",
      "conv1d_109 (Conv1D)             (None, 35, 32)       67232       dropout_97[0][0]                 \n",
      "__________________________________________________________________________________________________\n",
      "embedding_81 (Embedding)        (None, 1, 5)         235         input_136[0][0]                  \n",
      "__________________________________________________________________________________________________\n",
      "average_pooling1d_55 (AveragePo (None, 17, 32)       0           conv1d_109[0][0]                 \n",
      "__________________________________________________________________________________________________\n",
      "reshape_18 (Reshape)            (None, 5)            0           embedding_81[0][0]               \n",
      "__________________________________________________________________________________________________\n",
      "conv1d_110 (Conv1D)             (None, 17, 28)       6300        average_pooling1d_55[0][0]       \n",
      "__________________________________________________________________________________________________\n",
      "dropout_98 (Dropout)            (None, 5)            0           reshape_18[0][0]                 \n",
      "__________________________________________________________________________________________________\n",
      "input_135 (InputLayer)          (None, 8)            0                                            \n",
      "__________________________________________________________________________________________________\n",
      "global_average_pooling1d_55 (Gl (None, 28)           0           conv1d_110[0][0]                 \n",
      "__________________________________________________________________________________________________\n",
      "concatenate_45 (Concatenate)    (None, 41)           0           dropout_98[0][0]                 \n",
      "                                                                 input_135[0][0]                  \n",
      "                                                                 global_average_pooling1d_55[0][0]\n",
      "__________________________________________________________________________________________________\n",
      "batch_normalization_24 (BatchNo (None, 41)           164         concatenate_45[0][0]             \n",
      "__________________________________________________________________________________________________\n",
      "dense_90 (Dense)                (None, 18)           756         batch_normalization_24[0][0]     \n",
      "__________________________________________________________________________________________________\n",
      "dropout_99 (Dropout)            (None, 18)           0           dense_90[0][0]                   \n",
      "__________________________________________________________________________________________________\n",
      "dense_91 (Dense)                (None, 4)            76          dropout_99[0][0]                 \n",
      "__________________________________________________________________________________________________\n",
      "dense_92 (Dense)                (None, 1)            5           dense_91[0][0]                   \n",
      "==================================================================================================\n",
      "Total params: 1,275,068\n",
      "Trainable params: 74,686\n",
      "Non-trainable params: 1,200,382\n",
      "__________________________________________________________________________________________________\n"
     ]
    }
   ],
   "source": [
    "text_input = Input((PAD_LEN_WORD,))\n",
    "other_feat_input = Input((other_features_dim,))\n",
    "category_input = Input((1, ))\n",
    "\n",
    "m = Embedding(MAX_VOCAB + 1 , EMB_DIM,\n",
    "          weights=[mat], input_length=PAD_LEN_WORD, trainable=False)(text_input)\n",
    "m = Dropout(0.5)(m)\n",
    "m = Conv1D(num_filters, 7, activation='relu', padding='same')(m)\n",
    "m = AveragePooling1D(2)(m)\n",
    "m = Conv1D(num_filters - 4, 7, activation='relu', padding='same')(m)\n",
    "m = GlobalAveragePooling1D()(m)\n",
    "\n",
    "category_emb = Embedding(input_dim=nb_category,\n",
    "                        output_dim = CATEGORY_EMB_DIM,\n",
    "                        input_length = 1,\n",
    "                        trainable = True, \n",
    "                        embeddings_initializer=uniform )(category_input)\n",
    "\n",
    "category_emb = Reshape((5, ))(category_emb)\n",
    "\n",
    "category_emb = Dropout(0.2)(category_emb)\n",
    "\n",
    "m = concatenate([category_emb, other_feat_input, m], axis = 1)\n",
    "m = BatchNormalization()(m)\n",
    "\n",
    "m = Dense(18, activation='relu')(m)\n",
    "m = Dropout(0.2)(m)\n",
    "\n",
    "m = Dense(4, activation='relu', kernel_regularizer=regularizers.l2(weight_decay))(m)\n",
    "\n",
    "output = Dense(num_classes)(m)\n",
    "\n",
    "\n",
    "model = Model(inputs=[category_input, other_feat_input, text_input] , \n",
    "              outputs= output,\n",
    "              name='sec_model')\n",
    "adam = optimizers.Adam(lr=0.0001, beta_1=0.9,\n",
    "                       beta_2=0.999, epsilon=1e-08,\n",
    "                       decay=0.0, clipnorm=2.)\n",
    "model.compile(loss='mean_absolute_error',\n",
    "              optimizer=adam,\n",
    "              metrics=[rmse, \"mae\"])\n",
    "model.summary()"
   ]
  },
  {
   "cell_type": "markdown",
   "metadata": {},
   "source": [
    "best training loss 0.6474"
   ]
  },
  {
   "cell_type": "code",
   "execution_count": null,
   "metadata": {
    "collapsed": false,
    "scrolled": true
   },
   "outputs": [
    {
     "name": "stdout",
     "output_type": "stream",
     "text": [
      "Train on 45000 samples, validate on 5000 samples\n",
      "Epoch 1/50\n",
      " - 41s - loss: 0.2558 - rmse: 0.4050 - mean_absolute_error: 0.2558 - val_loss: 0.1639 - val_rmse: 0.3371 - val_mean_absolute_error: 0.1639\n",
      "Epoch 2/50\n",
      " - 39s - loss: 0.1486 - rmse: 0.2857 - mean_absolute_error: 0.1486 - val_loss: 0.1418 - val_rmse: 0.2912 - val_mean_absolute_error: 0.1418\n",
      "Epoch 3/50\n",
      " - 43s - loss: 0.1415 - rmse: 0.2882 - mean_absolute_error: 0.1415 - val_loss: 0.1401 - val_rmse: 0.2867 - val_mean_absolute_error: 0.1401\n",
      "Epoch 4/50\n",
      " - 43s - loss: 0.1406 - rmse: 0.2878 - mean_absolute_error: 0.1406 - val_loss: 0.1396 - val_rmse: 0.2856 - val_mean_absolute_error: 0.1396\n",
      "Epoch 5/50\n",
      " - 39s - loss: 0.1404 - rmse: 0.2874 - mean_absolute_error: 0.1404 - val_loss: 0.1396 - val_rmse: 0.2858 - val_mean_absolute_error: 0.1396\n",
      "Epoch 6/50\n",
      " - 40s - loss: 0.1403 - rmse: 0.2868 - mean_absolute_error: 0.1403 - val_loss: 0.1399 - val_rmse: 0.2865 - val_mean_absolute_error: 0.1399\n",
      "Epoch 7/50\n"
     ]
    }
   ],
   "source": [
    "early_stopping = EarlyStopping(monitor='val_loss', min_delta=0.01, patience=5, verbose=1)\n",
    "callbacks_list = [early_stopping]\n",
    "\n",
    "\n",
    "other_feat = [np.array(train[other_features])]\n",
    "padded_text = [np.array(padded_words)]\n",
    "category_data = [np.array(train.category_name.map(cat2index))]\n",
    "\n",
    "target = np.array(train.deal_probability)\n",
    "hist = model.fit( category_data + other_feat  + padded_text ,\n",
    "                 target,\n",
    "                 batch_size=batch_size,\n",
    "                 epochs=num_epochs,\n",
    "                 validation_split=0.1,\n",
    "                 shuffle=True,\n",
    "                 verbose=2, \n",
    "                 callbacks = callbacks_list)"
   ]
  },
  {
   "cell_type": "code",
   "execution_count": 290,
   "metadata": {
    "collapsed": false
   },
   "outputs": [
    {
     "data": {
      "image/png": "[encoded data removed]",
      "text/plain": [
       "<matplotlib.figure.Figure at 0x18a42792ac8>"
      ]
     },
     "metadata": {},
     "output_type": "display_data"
    }
   ],
   "source": [
    "import matplotlib.pyplot as plt\n",
    "\n",
    "plt.figure()\n",
    "plt.plot(hist.history['rmse'], lw=2.0, color='b', label='train')\n",
    "plt.plot(hist.history['val_rmse'], lw=2.0, color='r', label='val')\n",
    "\n",
    "plt.title('CNN extra features')\n",
    "plt.xlabel('Epochs')\n",
    "plt.ylabel('rmse')\n",
    "plt.legend(loc='upper right')\n",
    "plt.show()"
   ]
  },
  {
   "cell_type": "code",
   "execution_count": 285,
   "metadata": {
    "collapsed": false
   },
   "outputs": [
    {
     "data": {
      "text/plain": [
       "array([0, 1, 2, ..., 5, 7, 0], dtype=int64)"
      ]
     },
     "execution_count": 285,
     "metadata": {},
     "output_type": "execute_result"
    }
   ],
   "source": [
    "category_data[0]"
   ]
  },
  {
   "cell_type": "markdown",
   "metadata": {},
   "source": [
    "simple features:\n",
    "    - length of description.\n",
    "    - number of words per sentence.\n",
    "    - punctuation.\n",
    "    - number of bullet points\n",
    "    - location in description\n",
    "    - brands\n",
    "    - number of items (enumerations)\n",
    "    - nb of words/Price\n",
    "    - nb of words matching between parameters/region/city/category... and text\n",
    "    \n",
    "- extra features\n",
    "    - images features (model IQA,  knn cluster, resized ratio)\n",
    "    - \n",
    "    \n",
    "- model improvement:\n",
    "    - add more callbacks (ReduceLROnPlateau, CsvLogger for plotting different parameters, tensorboard... etc)\n",
    "    - try different optimizers\n",
    "    - try different architecture (ex add feature engeneering before the conv)\n",
    "    - try new layer types ex: lSTM or atrousconv\n",
    "    - add a lstm after the cnn\n",
    "    - make smarter output layer based on target distri. (seems to be a pike at 0.7 -- Leakage)\n",
    "    - make function for embedding cat variable, and add all embedding variables\n",
    "    - try to put category variable as onehot encoded (might work better)\n",
    " \n",
    "- stacking, ensembling several models:\n",
    "    - try a linear fasttext (need modifiy the C code for regression, or binarize output)\n",
    "    - add a tfidf naiveBayes + LR + xgboost\n",
    "    - add other nets.\n",
    "    - try finetuning the IQA on target while adding some raw text features."
   ]
  },
  {
   "cell_type": "code",
   "execution_count": 265,
   "metadata": {
    "collapsed": false
   },
   "outputs": [
    {
     "data": {
      "text/plain": [
       "array([[-0.22107216, -0.90634358, -0.84760962, -0.3420023 ]])"
      ]
     },
     "execution_count": 265,
     "metadata": {},
     "output_type": "execute_result"
    }
   ],
   "source": [
    "np.random.randn(1, 4).reshape(4)"
   ]
  },
  {
   "cell_type": "code",
   "execution_count": 377,
   "metadata": {
    "collapsed": false
   },
   "outputs": [
    {
     "data": {
      "text/plain": [
       "[[316, 1129, 316, 1129, 49, 11, 316, 1129, 316, 1129, 1353],\n",
       " [444, 731, 2543],\n",
       " [16, 1353, 690]]"
      ]
     },
     "execution_count": 377,
     "metadata": {},
     "output_type": "execute_result"
    }
   ],
   "source": [
    "train_indexed['char_id'][0]"
   ]
  },
  {
   "cell_type": "code",
   "execution_count": 219,
   "metadata": {
    "collapsed": false
   },
   "outputs": [
    {
     "data": {
      "text/plain": [
       "<matplotlib.axes._subplots.AxesSubplot at 0x18a2fea8a20>"
      ]
     },
     "execution_count": 219,
     "metadata": {},
     "output_type": "execute_result"
    },
    {
     "data": {
      "image/png": "[encoded data removed]",
      "text/plain": [
       "<matplotlib.figure.Figure at 0x18a2f22c3c8>"
      ]
     },
     "metadata": {},
     "output_type": "display_data"
    }
   ],
   "source": [
    "sub =  train[train.price < 2000000]\n",
    "sns.regplot(sub.price, sub.deal_probability)"
   ]
  },
  {
   "cell_type": "code",
   "execution_count": 167,
   "metadata": {
    "collapsed": true
   },
   "outputs": [],
   "source": [
    "K.pow?"
   ]
  },
  {
   "cell_type": "code",
   "execution_count": null,
   "metadata": {
    "collapsed": true
   },
   "outputs": [],
   "source": []
  }
 ],
 "metadata": {
  "anaconda-cloud": {},
  "kernelspec": {
   "display_name": "Python [conda env:tensorflow]",
   "language": "python",
   "name": "conda-env-tensorflow-py"
  },
  "language_info": {
   "codemirror_mode": {
    "name": "ipython",
    "version": 3
   },
   "file_extension": ".py",
   "mimetype": "text/x-python",
   "name": "python",
   "nbconvert_exporter": "python",
   "pygments_lexer": "ipython3",
   "version": "3.5.2"
  }
 },
 "nbformat": 4,
 "nbformat_minor": 1
}
